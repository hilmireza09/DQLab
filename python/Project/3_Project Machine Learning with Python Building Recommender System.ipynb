{
 "cells": [
  {
   "cell_type": "code",
   "execution_count": 7,
   "metadata": {},
   "outputs": [],
   "source": [
    "#import library yang dibutuhkan\n",
    "import pandas as pd\n",
    "import numpy as np\n",
    "\n",
    "\n",
    "#lakukan pembacaan dataset\n",
    "movie_df = pd.read_csv('https://storage.googleapis.com/dqlab-dataset/title.basics.tsv', sep='\\t') #untuk menyimpan title_basics.tsv\n",
    "rating_df = pd.read_csv('https://storage.googleapis.com/dqlab-dataset/title.ratings.tsv', sep='\\t') #untuk menyimpan title.ratings.tsv"
   ]
  },
  {
   "cell_type": "markdown",
   "metadata": {},
   "source": [
    "## ---------------------------------------------------------------CHAPTER 3"
   ]
  },
  {
   "cell_type": "code",
   "execution_count": 6,
   "metadata": {},
   "outputs": [
    {
     "name": "stdout",
     "output_type": "stream",
     "text": [
      "      tconst  titleType                                      primaryTitle  \\\n",
      "0  tt0221078      short                         Circle Dance, Ute Indians   \n",
      "1  tt8862466  tvEpisode  ¡El #TeamOsos va con todo al \"Reality del amor\"!   \n",
      "2  tt7157720  tvEpisode                                     Episode #3.41   \n",
      "3  tt2974998  tvEpisode                         Episode dated 16 May 1987   \n",
      "4  tt2903620  tvEpisode                  Frances Bavier: Aunt Bee Retires   \n",
      "\n",
      "                                      originalTitle  isAdult startYear  \\\n",
      "0                         Circle Dance, Ute Indians        0      1898   \n",
      "1  ¡El #TeamOsos va con todo al \"Reality del amor\"!        0      2018   \n",
      "2                                     Episode #3.41        0      2016   \n",
      "3                         Episode dated 16 May 1987        0      1987   \n",
      "4                  Frances Bavier: Aunt Bee Retires        0      1973   \n",
      "\n",
      "  endYear runtimeMinutes             genres  \n",
      "0      \\N             \\N  Documentary,Short  \n",
      "1      \\N             \\N       Comedy,Drama  \n",
      "2      \\N             29   Comedy,Game-Show  \n",
      "3      \\N             \\N               News  \n",
      "4      \\N             \\N        Documentary  \n"
     ]
    },
    {
     "data": {
      "text/html": [
       "<div>\n",
       "<style scoped>\n",
       "    .dataframe tbody tr th:only-of-type {\n",
       "        vertical-align: middle;\n",
       "    }\n",
       "\n",
       "    .dataframe tbody tr th {\n",
       "        vertical-align: top;\n",
       "    }\n",
       "\n",
       "    .dataframe thead th {\n",
       "        text-align: right;\n",
       "    }\n",
       "</style>\n",
       "<table border=\"1\" class=\"dataframe\">\n",
       "  <thead>\n",
       "    <tr style=\"text-align: right;\">\n",
       "      <th></th>\n",
       "      <th>tconst</th>\n",
       "      <th>titleType</th>\n",
       "      <th>primaryTitle</th>\n",
       "      <th>originalTitle</th>\n",
       "      <th>isAdult</th>\n",
       "      <th>startYear</th>\n",
       "      <th>endYear</th>\n",
       "      <th>runtimeMinutes</th>\n",
       "      <th>genres</th>\n",
       "    </tr>\n",
       "  </thead>\n",
       "  <tbody>\n",
       "    <tr>\n",
       "      <th>0</th>\n",
       "      <td>tt0221078</td>\n",
       "      <td>short</td>\n",
       "      <td>Circle Dance, Ute Indians</td>\n",
       "      <td>Circle Dance, Ute Indians</td>\n",
       "      <td>0</td>\n",
       "      <td>1898</td>\n",
       "      <td>\\N</td>\n",
       "      <td>\\N</td>\n",
       "      <td>Documentary,Short</td>\n",
       "    </tr>\n",
       "    <tr>\n",
       "      <th>1</th>\n",
       "      <td>tt8862466</td>\n",
       "      <td>tvEpisode</td>\n",
       "      <td>¡El #TeamOsos va con todo al \"Reality del amor\"!</td>\n",
       "      <td>¡El #TeamOsos va con todo al \"Reality del amor\"!</td>\n",
       "      <td>0</td>\n",
       "      <td>2018</td>\n",
       "      <td>\\N</td>\n",
       "      <td>\\N</td>\n",
       "      <td>Comedy,Drama</td>\n",
       "    </tr>\n",
       "    <tr>\n",
       "      <th>2</th>\n",
       "      <td>tt7157720</td>\n",
       "      <td>tvEpisode</td>\n",
       "      <td>Episode #3.41</td>\n",
       "      <td>Episode #3.41</td>\n",
       "      <td>0</td>\n",
       "      <td>2016</td>\n",
       "      <td>\\N</td>\n",
       "      <td>29</td>\n",
       "      <td>Comedy,Game-Show</td>\n",
       "    </tr>\n",
       "    <tr>\n",
       "      <th>3</th>\n",
       "      <td>tt2974998</td>\n",
       "      <td>tvEpisode</td>\n",
       "      <td>Episode dated 16 May 1987</td>\n",
       "      <td>Episode dated 16 May 1987</td>\n",
       "      <td>0</td>\n",
       "      <td>1987</td>\n",
       "      <td>\\N</td>\n",
       "      <td>\\N</td>\n",
       "      <td>News</td>\n",
       "    </tr>\n",
       "    <tr>\n",
       "      <th>4</th>\n",
       "      <td>tt2903620</td>\n",
       "      <td>tvEpisode</td>\n",
       "      <td>Frances Bavier: Aunt Bee Retires</td>\n",
       "      <td>Frances Bavier: Aunt Bee Retires</td>\n",
       "      <td>0</td>\n",
       "      <td>1973</td>\n",
       "      <td>\\N</td>\n",
       "      <td>\\N</td>\n",
       "      <td>Documentary</td>\n",
       "    </tr>\n",
       "  </tbody>\n",
       "</table>\n",
       "</div>"
      ],
      "text/plain": [
       "      tconst  titleType                                      primaryTitle  \\\n",
       "0  tt0221078      short                         Circle Dance, Ute Indians   \n",
       "1  tt8862466  tvEpisode  ¡El #TeamOsos va con todo al \"Reality del amor\"!   \n",
       "2  tt7157720  tvEpisode                                     Episode #3.41   \n",
       "3  tt2974998  tvEpisode                         Episode dated 16 May 1987   \n",
       "4  tt2903620  tvEpisode                  Frances Bavier: Aunt Bee Retires   \n",
       "\n",
       "                                      originalTitle  isAdult startYear  \\\n",
       "0                         Circle Dance, Ute Indians        0      1898   \n",
       "1  ¡El #TeamOsos va con todo al \"Reality del amor\"!        0      2018   \n",
       "2                                     Episode #3.41        0      2016   \n",
       "3                         Episode dated 16 May 1987        0      1987   \n",
       "4                  Frances Bavier: Aunt Bee Retires        0      1973   \n",
       "\n",
       "  endYear runtimeMinutes             genres  \n",
       "0      \\N             \\N  Documentary,Short  \n",
       "1      \\N             \\N       Comedy,Drama  \n",
       "2      \\N             29   Comedy,Game-Show  \n",
       "3      \\N             \\N               News  \n",
       "4      \\N             \\N        Documentary  "
      ]
     },
     "execution_count": 6,
     "metadata": {},
     "output_type": "execute_result"
    }
   ],
   "source": [
    "print(movie_df.head())\n",
    "movie_df.head()"
   ]
  },
  {
   "cell_type": "code",
   "execution_count": 12,
   "metadata": {},
   "outputs": [
    {
     "name": "stdout",
     "output_type": "stream",
     "text": [
      "<class 'pandas.core.frame.DataFrame'>\n",
      "RangeIndex: 9025 entries, 0 to 9024\n",
      "Data columns (total 9 columns):\n",
      " #   Column          Non-Null Count  Dtype \n",
      "---  ------          --------------  ----- \n",
      " 0   tconst          9025 non-null   object\n",
      " 1   titleType       9025 non-null   object\n",
      " 2   primaryTitle    9011 non-null   object\n",
      " 3   originalTitle   9011 non-null   object\n",
      " 4   isAdult         9025 non-null   int64 \n",
      " 5   startYear       9025 non-null   object\n",
      " 6   endYear         9025 non-null   object\n",
      " 7   runtimeMinutes  9025 non-null   object\n",
      " 8   genres          9014 non-null   object\n",
      "dtypes: int64(1), object(8)\n",
      "memory usage: 634.7+ KB\n",
      "None\n"
     ]
    }
   ],
   "source": [
    "print(movie_df.info())"
   ]
  },
  {
   "cell_type": "code",
   "execution_count": 45,
   "metadata": {},
   "outputs": [
    {
     "name": "stdout",
     "output_type": "stream",
     "text": [
      "tconst             0\n",
      "titleType          0\n",
      "primaryTitle      14\n",
      "originalTitle     14\n",
      "isAdult            0\n",
      "startYear          0\n",
      "endYear            0\n",
      "runtimeMinutes     0\n",
      "genres            11\n",
      "dtype: int64\n"
     ]
    }
   ],
   "source": [
    "print(movie_df.isnull().sum())"
   ]
  },
  {
   "cell_type": "code",
   "execution_count": 5,
   "metadata": {},
   "outputs": [
    {
     "name": "stdout",
     "output_type": "stream",
     "text": [
      "          tconst  titleType primaryTitle originalTitle  isAdult startYear  \\\n",
      "9000  tt10790040  tvEpisode          NaN           NaN        0      2019   \n",
      "9001  tt10891902  tvEpisode          NaN           NaN        0      2020   \n",
      "9002  tt11737860  tvEpisode          NaN           NaN        0      2020   \n",
      "9003  tt11737862  tvEpisode          NaN           NaN        0      2020   \n",
      "9004  tt11737866  tvEpisode          NaN           NaN        0      2020   \n",
      "9005  tt11737872  tvEpisode          NaN           NaN        0      2020   \n",
      "9006  tt11737874  tvEpisode          NaN           NaN        0      2020   \n",
      "9007   tt1971246  tvEpisode          NaN           NaN        0      2011   \n",
      "9008   tt2067043  tvEpisode          NaN           NaN        0      1965   \n",
      "9009   tt4404732  tvEpisode          NaN           NaN        0      2015   \n",
      "9010   tt5773048  tvEpisode          NaN           NaN        0      2015   \n",
      "9011   tt8473688  tvEpisode          NaN           NaN        0      1987   \n",
      "9012   tt8541336  tvEpisode          NaN           NaN        0      2018   \n",
      "9013   tt9824302  tvEpisode          NaN           NaN        0      2016   \n",
      "\n",
      "     endYear runtimeMinutes                genres  \n",
      "9000      \\N             \\N                    \\N  \n",
      "9001      \\N             \\N                 Crime  \n",
      "9002      \\N             \\N  Comedy,Drama,Romance  \n",
      "9003      \\N             \\N  Comedy,Drama,Romance  \n",
      "9004      \\N             \\N  Comedy,Drama,Romance  \n",
      "9005      \\N             \\N                    \\N  \n",
      "9006      \\N             \\N  Comedy,Drama,Romance  \n",
      "9007      \\N             \\N             Biography  \n",
      "9008      \\N             \\N                 Music  \n",
      "9009      \\N             \\N                Comedy  \n",
      "9010      \\N             \\N             Talk-Show  \n",
      "9011      \\N             \\N                 Drama  \n",
      "9012      \\N             \\N    Reality-TV,Romance  \n",
      "9013      \\N             \\N           Documentary  \n"
     ]
    }
   ],
   "source": [
    "print(movie_df.loc[(movie_df['primaryTitle'].isnull()) | \n",
    "                   (movie_df['originalTitle'].isnull())])"
   ]
  },
  {
   "cell_type": "code",
   "execution_count": 8,
   "metadata": {},
   "outputs": [
    {
     "name": "stdout",
     "output_type": "stream",
     "text": [
      "9011\n"
     ]
    }
   ],
   "source": [
    "#mengupdate movie_df dengan membuang data-data bernilai NULL\n",
    "movie_df = movie_df.loc[(movie_df['primaryTitle'].notnull()) &\n",
    "                       (movie_df['originalTitle'].notnull())]\n",
    "\n",
    "#menampilkan jumlah data setelah data dengan nilai NULL dibuang\n",
    "print(len(movie_df))"
   ]
  },
  {
   "cell_type": "code",
   "execution_count": 9,
   "metadata": {
    "scrolled": true
   },
   "outputs": [
    {
     "name": "stdout",
     "output_type": "stream",
     "text": [
      "          tconst  titleType  \\\n",
      "9014  tt10233364  tvEpisode   \n",
      "9015  tt10925142  tvEpisode   \n",
      "9016  tt10970874  tvEpisode   \n",
      "9017  tt11670006  tvEpisode   \n",
      "9018  tt11868642  tvEpisode   \n",
      "9019   tt2347742  tvEpisode   \n",
      "9020   tt3984412  tvEpisode   \n",
      "9021   tt8740950  tvEpisode   \n",
      "9022   tt9822816  tvEpisode   \n",
      "9023   tt9900062  tvEpisode   \n",
      "9024   tt9909210  tvEpisode   \n",
      "\n",
      "                                           primaryTitle originalTitle  \\\n",
      "9014  Rolling in the Deep Dish\\tRolling in the Deep ...             0   \n",
      "9015  The IMDb Show on Location: Star Wars Galaxy's ...             0   \n",
      "9016  Die Bauhaus-Stadt Tel Aviv - Vorbild für die M...             0   \n",
      "9017  ...ein angenehmer Unbequemer...\\t...ein angene...             0   \n",
      "9018  GGN Heavyweight Championship Lungs With Mike T...             0   \n",
      "9019  No sufras por la alergia esta primavera\\tNo su...             0   \n",
      "9020  I'm Not Going to Come Last, I'm Just Going to ...             0   \n",
      "9021  Weight Loss Resolution Restart - Ins & Outs of...             0   \n",
      "9022  Zwischen Vertuschung und Aufklärung - Missbrau...             0   \n",
      "9023  The Direction of Yuu's Love: Hings Aren't Goin...             0   \n",
      "9024  Politik und/oder Moral - Wie weit geht das Ver...             0   \n",
      "\n",
      "      isAdult startYear endYear          runtimeMinutes genres  \n",
      "9014     2019        \\N      \\N              Reality-TV    NaN  \n",
      "9015     2019        \\N      \\N               Talk-Show    NaN  \n",
      "9016     2019        \\N      \\N                      \\N    NaN  \n",
      "9017     1981        \\N      \\N             Documentary    NaN  \n",
      "9018     2020        \\N      \\N               Talk-Show    NaN  \n",
      "9019     2004        \\N      \\N                      \\N    NaN  \n",
      "9020     2014        \\N      \\N              Reality-TV    NaN  \n",
      "9021     2015        \\N      \\N              Reality-TV    NaN  \n",
      "9022     2019        \\N      \\N                      \\N    NaN  \n",
      "9023     1994        \\N      \\N  Animation,Comedy,Drama    NaN  \n",
      "9024     2005        \\N      \\N                      \\N    NaN  \n"
     ]
    }
   ],
   "source": [
    "print(movie_df.loc[movie_df['genres'].isnull()])"
   ]
  },
  {
   "cell_type": "code",
   "execution_count": 7,
   "metadata": {
    "scrolled": true
   },
   "outputs": [
    {
     "name": "stdout",
     "output_type": "stream",
     "text": [
      "9014\n"
     ]
    }
   ],
   "source": [
    "#mengupdate movie_df dengan membuang data-data bernilai NULL\n",
    "movie_df = movie_df.loc[movie_df['genres'].notnull()]\n",
    "\n",
    "#menampilkan jumlah data setelah data dengan nilai NULL dibuang\n",
    "print(len(movie_df))"
   ]
  },
  {
   "cell_type": "code",
   "execution_count": 34,
   "metadata": {},
   "outputs": [
    {
     "name": "stdout",
     "output_type": "stream",
     "text": [
      "[1898. 2018. 2016. 1987. 1973.]\n",
      "[  nan 2005. 1955. 2006. 1999.]\n",
      "[nan 29.  7. 23. 85.]\n"
     ]
    }
   ],
   "source": [
    "#mengubah nilai '\\\\N' pada startYear menjadi np.nan dan cast kolomnya menjadi float64\n",
    "movie_df['startYear'] = movie_df['startYear'].replace('\\\\N',np.NaN)\n",
    "movie_df['startYear'] = movie_df['startYear'].astype(np.float64)\n",
    "print(movie_df['startYear'].unique()[:5])\n",
    "\n",
    "#mengubah nilai '\\\\N' pada endYear menjadi np.nan dan cast kolomnya menjadi float64\n",
    "movie_df['endYear'] = movie_df['endYear'].replace('\\\\N',np.NaN)\n",
    "movie_df['endYear'] = movie_df['endYear'].astype(np.float64)\n",
    "print(movie_df['endYear'].unique()[:5])\n",
    "\n",
    "#mengubah nilai '\\\\N' pada runtimeMinutes menjadi np.nan dan cast kolomnya menjadi float64\n",
    "movie_df['runtimeMinutes'] = movie_df['runtimeMinutes'].replace('\\\\N',np.NaN)\n",
    "movie_df['runtimeMinutes'] = movie_df['runtimeMinutes'].astype(np.float64)\n",
    "print(movie_df['runtimeMinutes'].unique()[:5])"
   ]
  },
  {
   "cell_type": "code",
   "execution_count": 39,
   "metadata": {},
   "outputs": [
    {
     "name": "stdout",
     "output_type": "stream",
     "text": [
      "[1898. 2018. 2016. 1987. 1973.]\n",
      "[  nan 2005. 1955. 2006. 1999.]\n",
      "[nan 29.  7. 23. 85.]\n"
     ]
    }
   ],
   "source": [
    "#mengubah nilai '\\\\N' pada startYear menjadi np.nan dan cast kolomnya menjadi float64\n",
    "movie_df['startYear'] = movie_df['startYear'].replace('\\\\N',np.NaN)\n",
    "movie_df['startYear'] = movie_df['startYear'].astype('float64')\n",
    "print(movie_df['startYear'].unique()[:5])\n",
    "\n",
    "#mengubah nilai '\\\\N' pada endYear menjadi np.nan dan cast kolomnya menjadi float64\n",
    "movie_df['endYear'] = movie_df['endYear'].replace('\\\\N',np.NaN)\n",
    "movie_df['endYear'] = movie_df['endYear'].astype('float64')\n",
    "print(movie_df['endYear'].unique()[:5])\n",
    "\n",
    "#mengubah nilai '\\\\N' pada runtimeMinutes menjadi np.nan dan cast kolomnya menjadi float64\n",
    "movie_df['runtimeMinutes'] = movie_df['runtimeMinutes'].replace('\\\\N',np.NaN)\n",
    "movie_df['runtimeMinutes'] = movie_df['runtimeMinutes'].astype('float64')\n",
    "print(movie_df['runtimeMinutes'].unique()[:5])"
   ]
  },
  {
   "cell_type": "code",
   "execution_count": 41,
   "metadata": {},
   "outputs": [],
   "source": [
    "def transform_to_list(x):\n",
    "    if ',' in x: \n",
    "    #ubah menjadi list apabila ada data pada kolom genre\n",
    "        return x.split(',')\n",
    "    else: \n",
    "    #jika tidak ada data, ubah menjadi list kosong\n",
    "        return []\n",
    "\n",
    "movie_df['genres'] = movie_df['genres'].apply(lambda x: transform_to_list(x))"
   ]
  },
  {
   "cell_type": "markdown",
   "metadata": {},
   "source": [
    "## ------------------------------------------------------CHAPTER 4"
   ]
  },
  {
   "cell_type": "code",
   "execution_count": 42,
   "metadata": {},
   "outputs": [
    {
     "name": "stdout",
     "output_type": "stream",
     "text": [
      "      tconst  averageRating  numVotes\n",
      "0  tt0000001            5.6      1608\n",
      "1  tt0000002            6.0       197\n",
      "2  tt0000003            6.5      1285\n",
      "3  tt0000004            6.1       121\n",
      "4  tt0000005            6.1      2050\n"
     ]
    }
   ],
   "source": [
    "print(rating_df.head())"
   ]
  },
  {
   "cell_type": "code",
   "execution_count": 44,
   "metadata": {},
   "outputs": [
    {
     "name": "stdout",
     "output_type": "stream",
     "text": [
      "<class 'pandas.core.frame.DataFrame'>\n",
      "RangeIndex: 1030009 entries, 0 to 1030008\n",
      "Data columns (total 3 columns):\n",
      " #   Column         Non-Null Count    Dtype  \n",
      "---  ------         --------------    -----  \n",
      " 0   tconst         1030009 non-null  object \n",
      " 1   averageRating  1030009 non-null  float64\n",
      " 2   numVotes       1030009 non-null  int64  \n",
      "dtypes: float64(1), int64(1), object(1)\n",
      "memory usage: 23.6+ MB\n",
      "None\n"
     ]
    }
   ],
   "source": [
    "print(rating_df.info())"
   ]
  },
  {
   "cell_type": "markdown",
   "metadata": {},
   "source": [
    "## ----------------------------------------------------------CHAPTER 5"
   ]
  },
  {
   "cell_type": "code",
   "execution_count": 8,
   "metadata": {},
   "outputs": [
    {
     "name": "stdout",
     "output_type": "stream",
     "text": [
      "      tconst  titleType              primaryTitle             originalTitle  \\\n",
      "0  tt0043745      short                 Lion Down                 Lion Down   \n",
      "1  tt0167491      video         Wicked Covergirls         Wicked Covergirls   \n",
      "2  tt6574096  tvEpisode      Shadow Play - Part 2      Shadow Play - Part 2   \n",
      "3  tt6941700  tvEpisode              RuPaul Roast              RuPaul Roast   \n",
      "4  tt7305674      video  UCLA Track & Field Promo  UCLA Track & Field Promo   \n",
      "\n",
      "   isAdult startYear endYear runtimeMinutes                      genres  \\\n",
      "0        0      1951      \\N              7     Animation,Comedy,Family   \n",
      "1        1      1998      \\N             85                       Adult   \n",
      "2        0      2017      \\N             22  Adventure,Animation,Comedy   \n",
      "3        0      2017      \\N             \\N                  Reality-TV   \n",
      "4        0      2017      \\N             \\N                 Short,Sport   \n",
      "\n",
      "   averageRating  numVotes  \n",
      "0            7.1       459  \n",
      "1            5.7         7  \n",
      "2            8.5       240  \n",
      "3            8.0        11  \n",
      "4            9.7         7  \n",
      "<class 'pandas.core.frame.DataFrame'>\n",
      "Int64Index: 1378 entries, 0 to 1377\n",
      "Data columns (total 11 columns):\n",
      " #   Column          Non-Null Count  Dtype  \n",
      "---  ------          --------------  -----  \n",
      " 0   tconst          1378 non-null   object \n",
      " 1   titleType       1378 non-null   object \n",
      " 2   primaryTitle    1378 non-null   object \n",
      " 3   originalTitle   1378 non-null   object \n",
      " 4   isAdult         1378 non-null   int64  \n",
      " 5   startYear       1378 non-null   object \n",
      " 6   endYear         1378 non-null   object \n",
      " 7   runtimeMinutes  1378 non-null   object \n",
      " 8   genres          1376 non-null   object \n",
      " 9   averageRating   1378 non-null   float64\n",
      " 10  numVotes        1378 non-null   int64  \n",
      "dtypes: float64(1), int64(2), object(8)\n",
      "memory usage: 129.2+ KB\n",
      "None\n"
     ]
    }
   ],
   "source": [
    "#Lakukan join pada kedua table\n",
    "movie_rating_df = pd.merge( movie_df, rating_df, on='tconst', how='inner')\n",
    "\n",
    "#Tampilkan 5 data teratas\n",
    "print(movie_rating_df.head())\n",
    "\n",
    "#Tampilkan tipe data dari tiap kolom\n",
    "print(movie_rating_df.info())"
   ]
  },
  {
   "cell_type": "code",
   "execution_count": 17,
   "metadata": {},
   "outputs": [
    {
     "ename": "TypeError",
     "evalue": "'NoneType' object is not subscriptable",
     "output_type": "error",
     "traceback": [
      "\u001b[1;31m---------------------------------------------------------------------------\u001b[0m",
      "\u001b[1;31mTypeError\u001b[0m                                 Traceback (most recent call last)",
      "\u001b[1;32m<ipython-input-17-b4a1475bb9f4>\u001b[0m in \u001b[0;36m<module>\u001b[1;34m\u001b[0m\n\u001b[0;32m      1\u001b[0m \u001b[1;31m# pd.to_numeric(movie_rating_df['starYear'], errors='coerce').astype('float64')\u001b[0m\u001b[1;33m\u001b[0m\u001b[1;33m\u001b[0m\u001b[1;33m\u001b[0m\u001b[0m\n\u001b[0;32m      2\u001b[0m \u001b[1;31m# movie_rating_df['startYear'].astype('float64')\u001b[0m\u001b[1;33m\u001b[0m\u001b[1;33m\u001b[0m\u001b[1;33m\u001b[0m\u001b[0m\n\u001b[1;32m----> 3\u001b[1;33m \u001b[0mmovie_rating_df\u001b[0m\u001b[1;33m[\u001b[0m\u001b[1;36m1\u001b[0m\u001b[1;33m]\u001b[0m\u001b[1;33m\u001b[0m\u001b[1;33m\u001b[0m\u001b[0m\n\u001b[0m",
      "\u001b[1;31mTypeError\u001b[0m: 'NoneType' object is not subscriptable"
     ]
    }
   ],
   "source": [
    "# pd.to_numeric(movie_rating_df['starYear'], errors='coerce').astype('float64')\n",
    "# movie_rating_df['startYear'].astype('float64')\n",
    "movie_rating_df[1]"
   ]
  },
  {
   "cell_type": "code",
   "execution_count": 14,
   "metadata": {},
   "outputs": [
    {
     "name": "stdout",
     "output_type": "stream",
     "text": [
      "<class 'pandas.core.frame.DataFrame'>\n",
      "Int64Index: 1376 entries, 0 to 1375\n",
      "Data columns (total 11 columns):\n",
      " #   Column          Non-Null Count  Dtype  \n",
      "---  ------          --------------  -----  \n",
      " 0   tconst          1376 non-null   object \n",
      " 1   titleType       1376 non-null   object \n",
      " 2   primaryTitle    1376 non-null   object \n",
      " 3   originalTitle   1376 non-null   object \n",
      " 4   isAdult         1376 non-null   int64  \n",
      " 5   startYear       1376 non-null   object \n",
      " 6   endYear         1376 non-null   object \n",
      " 7   runtimeMinutes  1376 non-null   object \n",
      " 8   genres          1376 non-null   object \n",
      " 9   averageRating   1376 non-null   float64\n",
      " 10  numVotes        1376 non-null   int64  \n",
      "dtypes: float64(1), int64(2), object(8)\n",
      "memory usage: 129.0+ KB\n",
      "None\n"
     ]
    }
   ],
   "source": [
    "movie_rating_df = movie_rating_df.loc[(movie_rating_df['startYear'].notnull()) & \n",
    "                                      (movie_rating_df['runtimeMinutes'].notnull())]\n",
    "\n",
    "#Untuk memastikan bahwa sudah tidak ada lagi nilai NULL\n",
    "print(movie_rating_df.info())"
   ]
  },
  {
   "cell_type": "code",
   "execution_count": 13,
   "metadata": {},
   "outputs": [
    {
     "name": "stdout",
     "output_type": "stream",
     "text": [
      "<class 'pandas.core.frame.DataFrame'>\n",
      "Int64Index: 1376 entries, 0 to 1375\n",
      "Data columns (total 11 columns):\n",
      " #   Column          Non-Null Count  Dtype  \n",
      "---  ------          --------------  -----  \n",
      " 0   tconst          1376 non-null   object \n",
      " 1   titleType       1376 non-null   object \n",
      " 2   primaryTitle    1376 non-null   object \n",
      " 3   originalTitle   1376 non-null   object \n",
      " 4   isAdult         1376 non-null   int64  \n",
      " 5   startYear       1376 non-null   object \n",
      " 6   endYear         1376 non-null   object \n",
      " 7   runtimeMinutes  1376 non-null   object \n",
      " 8   genres          1376 non-null   object \n",
      " 9   averageRating   1376 non-null   float64\n",
      " 10  numVotes        1376 non-null   int64  \n",
      "dtypes: float64(1), int64(2), object(8)\n",
      "memory usage: 129.0+ KB\n",
      "None\n"
     ]
    }
   ],
   "source": [
    "movie_rating_df = movie_rating_df.dropna(subset=['startYear','runtimeMinutes'])\n",
    "\n",
    "#Untuk memastikan bahwa sudah tidak ada lagi nilai NULL\n",
    "print(movie_rating_df.info())"
   ]
  },
  {
   "cell_type": "markdown",
   "metadata": {},
   "source": [
    "## -------------------------------------------------------------CHAPTER 6"
   ]
  },
  {
   "cell_type": "code",
   "execution_count": 11,
   "metadata": {},
   "outputs": [
    {
     "name": "stdout",
     "output_type": "stream",
     "text": [
      "6.869840116279075\n"
     ]
    }
   ],
   "source": [
    "C = movie_rating_df['averageRating'].mean()\n",
    "print(C)"
   ]
  },
  {
   "cell_type": "code",
   "execution_count": 12,
   "metadata": {},
   "outputs": [
    {
     "name": "stdout",
     "output_type": "stream",
     "text": [
      "136.0\n"
     ]
    }
   ],
   "source": [
    "m = movie_rating_df['numVotes'].quantile(0.8)\n",
    "print(m)"
   ]
  },
  {
   "cell_type": "code",
   "execution_count": 14,
   "metadata": {},
   "outputs": [
    {
     "name": "stdout",
     "output_type": "stream",
     "text": [
      "      tconst  titleType              primaryTitle             originalTitle  \\\n",
      "0  tt0043745      short                 Lion Down                 Lion Down   \n",
      "1  tt0167491      video         Wicked Covergirls         Wicked Covergirls   \n",
      "2  tt6574096  tvEpisode      Shadow Play - Part 2      Shadow Play - Part 2   \n",
      "3  tt6941700  tvEpisode              RuPaul Roast              RuPaul Roast   \n",
      "4  tt7305674      video  UCLA Track & Field Promo  UCLA Track & Field Promo   \n",
      "\n",
      "   isAdult startYear endYear runtimeMinutes                      genres  \\\n",
      "0        0      1951      \\N              7     Animation,Comedy,Family   \n",
      "1        1      1998      \\N             85                       Adult   \n",
      "2        0      2017      \\N             22  Adventure,Animation,Comedy   \n",
      "3        0      2017      \\N             \\N                  Reality-TV   \n",
      "4        0      2017      \\N             \\N                 Short,Sport   \n",
      "\n",
      "   averageRating  numVotes     score  \n",
      "0            7.1       459  7.047618  \n",
      "1            5.7         7  6.813514  \n",
      "2            8.5       240  7.910725  \n",
      "3            8.0        11  6.955323  \n",
      "4            9.7         7  7.009318  \n"
     ]
    }
   ],
   "source": [
    "def imdb_weighted_rating(df, var=0.8):\n",
    "    v = df['numVotes']\n",
    "    R = df['averageRating']\n",
    "    C = df['averageRating'].mean()\n",
    "    m = df['numVotes'].quantile(var)\n",
    "    df['score'] =  (v/(m+v))*R + (m/(m+v))*C #Rumus IMDb \n",
    "    return df['score']\n",
    "    \n",
    "imdb_weighted_rating(movie_rating_df)\n",
    "\n",
    "#melakukan pengecekan dataframe\n",
    "print(movie_rating_df.head())"
   ]
  },
  {
   "cell_type": "code",
   "execution_count": 16,
   "metadata": {
    "scrolled": true
   },
   "outputs": [
    {
     "name": "stdout",
     "output_type": "stream",
     "text": [
      "         tconst  titleType                                   primaryTitle  \\\n",
      "68    tt4110822  tvEpisode                                  S.O.S. Part 2   \n",
      "1150  tt5807780  videoGame                                     Spider-Man   \n",
      "236   tt2200252      video                    Attack of the Clones Review   \n",
      "1181  tt7697962  tvEpisode            Chapter Seventeen: The Missionaries   \n",
      "326   tt7124590  tvEpisode            Chapter Thirty-Four: Judgment Night   \n",
      "71    tt8399426  tvEpisode                                        Savages   \n",
      "1045  tt0533506  tvEpisode                                       The Prom   \n",
      "1234  tt2843830  tvEpisode                                          VIII.   \n",
      "1087  tt4295140   tvSeries                                   Chef's Table   \n",
      "1054  tt2503932  tvEpisode                                Trial and Error   \n",
      "448   tt0337566      video                       AC/DC: Live at Donington   \n",
      "189   tt5661506      video            Florence + the Machine: The Odyssey   \n",
      "624   tt0620159  tvEpisode                                     Strike Out   \n",
      "973   tt0340374  videoGame                                  Splinter Cell   \n",
      "1281  tt3166390  tvEpisode                         Looking for a Plus-One   \n",
      "49    tt9119838  tvEpisode                      Parisian Legend Has It...   \n",
      "151   tt3954426  tvEpisode                                Bleeding Kansas   \n",
      "357   tt4084774  tvEpisode                           Trial and Punishment   \n",
      "1217  tt3642464  tvEpisode                                    Giant Woman   \n",
      "1344  tt6644294  tvEpisode                 The Hostile Hospital: Part Two   \n",
      "314   tt0954759  tvEpisode                                   Ben Franklin   \n",
      "1242  tt3677742  tvSpecial  Saturday Night Live: 40th Anniversary Special   \n",
      "790   tt4279086  tvEpisode                       And Santa's Midnight Run   \n",
      "544   tt0734655  tvEpisode                              The Little People   \n",
      "983   tt5063116  tvEpisode                                          Shell   \n",
      "\n",
      "                                      originalTitle  isAdult startYear  \\\n",
      "68                                    S.O.S. Part 2        0      2015   \n",
      "1150                                     Spider-Man        0      2018   \n",
      "236                     Attack of the Clones Review        0      2010   \n",
      "1181            Chapter Seventeen: The Missionaries        0      2019   \n",
      "326             Chapter Thirty-Four: Judgment Night        0      2018   \n",
      "71                                          Savages        0      2018   \n",
      "1045                                       The Prom        0      1999   \n",
      "1234                                          VIII.        0      2014   \n",
      "1087                                   Chef's Table        0      2015   \n",
      "1054                                Trial and Error        0      2013   \n",
      "448                        AC/DC: Live at Donington        0      1992   \n",
      "189             Florence + the Machine: The Odyssey        0      2016   \n",
      "624                                      Strike Out        0      2000   \n",
      "973                                   Splinter Cell        0      2002   \n",
      "1281                         Looking for a Plus-One        0      2014   \n",
      "49                        Parisian Legend Has It...        0      2019   \n",
      "151                                 Bleeding Kansas        0      2014   \n",
      "357                            Trial and Punishment        0      2015   \n",
      "1217                                    Giant Woman        0      2014   \n",
      "1344                 The Hostile Hospital: Part Two        0      2018   \n",
      "314                                    Ben Franklin        0      2007   \n",
      "1242  Saturday Night Live: 40th Anniversary Special        0      2015   \n",
      "790                        And Santa's Midnight Run        0      2014   \n",
      "544                               The Little People        0      1962   \n",
      "983                                           Shell        0      2016   \n",
      "\n",
      "     endYear runtimeMinutes                      genres  averageRating  \\\n",
      "68        \\N             43      Action,Adventure,Drama            9.4   \n",
      "1150      \\N             \\N    Action,Adventure,Fantasy            9.3   \n",
      "236       \\N             86                      Comedy            9.3   \n",
      "1181      \\N             54        Drama,Fantasy,Horror            9.2   \n",
      "326       \\N             42         Crime,Drama,Mystery            9.1   \n",
      "71        \\N             58       Drama,Fantasy,Romance            9.0   \n",
      "1045      \\N             60        Action,Drama,Fantasy            8.9   \n",
      "1234      \\N             57             Adventure,Drama            8.9   \n",
      "1087      \\N             50                 Documentary            8.6   \n",
      "1054      \\N             43        Drama,Fantasy,Horror            8.6   \n",
      "448       \\N            120           Documentary,Music            8.5   \n",
      "189       \\N             49                       Music            8.8   \n",
      "624       \\N             30                      Comedy            8.7   \n",
      "973       \\N             \\N   Action,Adventure,Thriller            8.3   \n",
      "1281      \\N             28        Comedy,Drama,Romance            8.7   \n",
      "49        \\N             42                       Drama            8.9   \n",
      "151       \\N             42               Drama,Western            8.6   \n",
      "357       \\N             56             Adventure,Drama            8.8   \n",
      "1217      \\N             11  Adventure,Animation,Comedy            8.4   \n",
      "1344      \\N             40      Adventure,Comedy,Drama            8.3   \n",
      "314       \\N             21                      Comedy            8.1   \n",
      "1242      \\N            106                      Comedy            8.1   \n",
      "790       \\N             42     Action,Adventure,Comedy            8.2   \n",
      "544       \\N             25        Drama,Fantasy,Horror            8.1   \n",
      "983       \\N             32                Comedy,Drama            8.5   \n",
      "\n",
      "      numVotes     score  \n",
      "68        3820  9.313018  \n",
      "1150     10104  9.267724  \n",
      "236       1411  9.086360  \n",
      "1181      1536  9.010465  \n",
      "326       1859  8.947969  \n",
      "71        1428  8.814769  \n",
      "1045      2740  8.803998  \n",
      "1234      1753  8.753837  \n",
      "1087     12056  8.580700  \n",
      "1054      2495  8.510566  \n",
      "448       1343  8.350100  \n",
      "189        330  8.236692  \n",
      "624        401  8.236496  \n",
      "973       2791  8.233549  \n",
      "1281       396  8.232140  \n",
      "49         263  8.208016  \n",
      "151        437  8.189351  \n",
      "357        289  8.182349  \n",
      "1217       566  8.103559  \n",
      "1344       812  8.094829  \n",
      "314       2766  8.042350  \n",
      "1242      1931  8.019061  \n",
      "790        823  8.011364  \n",
      "544       1559  8.001297  \n",
      "983        275  7.960580  \n"
     ]
    }
   ],
   "source": [
    "def simple_recommender(df, top=100):\n",
    "    df = df.loc[df['numVotes'] >= m]\n",
    "    df = df.sort_values(by='score', ascending=False) #urutkan dari nilai tertinggi ke terendah\n",
    "    \n",
    "    #Ambil data 100 teratas\n",
    "    df = df[:top]\n",
    "    return df\n",
    "    \n",
    "#Ambil data 25 teratas     \n",
    "print(simple_recommender(movie_rating_df, top=25))"
   ]
  },
  {
   "cell_type": "code",
   "execution_count": 18,
   "metadata": {},
   "outputs": [],
   "source": [
    "m = df['numVotes'].quantile(0.8)"
   ]
  },
  {
   "cell_type": "code",
   "execution_count": 21,
   "metadata": {},
   "outputs": [
    {
     "name": "stdout",
     "output_type": "stream",
     "text": [
      "         tconst  titleType                         primaryTitle  \\\n",
      "68    tt4110822  tvEpisode                        S.O.S. Part 2   \n",
      "1181  tt7697962  tvEpisode  Chapter Seventeen: The Missionaries   \n",
      "326   tt7124590  tvEpisode  Chapter Thirty-Four: Judgment Night   \n",
      "71    tt8399426  tvEpisode                              Savages   \n",
      "1234  tt2843830  tvEpisode                                VIII.   \n",
      "...         ...        ...                                  ...   \n",
      "1138  tt1126516      movie              Money Hai Toh Honey Hai   \n",
      "1197  tt3016748      movie                       Jacob's Ladder   \n",
      "1208  tt3044882      movie                                Nasha   \n",
      "846   tt0488164      movie                          Moscow Zero   \n",
      "90    tt0299981    tvMovie               Highlander: The Source   \n",
      "\n",
      "                            originalTitle  isAdult startYear endYear  \\\n",
      "68                          S.O.S. Part 2        0      2015      \\N   \n",
      "1181  Chapter Seventeen: The Missionaries        0      2019      \\N   \n",
      "326   Chapter Thirty-Four: Judgment Night        0      2018      \\N   \n",
      "71                                Savages        0      2018      \\N   \n",
      "1234                                VIII.        0      2014      \\N   \n",
      "...                                   ...      ...       ...     ...   \n",
      "1138              Money Hai Toh Honey Hai        0      2008      \\N   \n",
      "1197                       Jacob's Ladder        0      2019      \\N   \n",
      "1208                                Nasha        0      2013      \\N   \n",
      "846                           Moscow Zero        0      2006      \\N   \n",
      "90                 Highlander: The Source        0      2007      \\N   \n",
      "\n",
      "     runtimeMinutes                  genres  averageRating  numVotes     score  \n",
      "68               43  Action,Adventure,Drama            9.4      3820  9.313052  \n",
      "1181             54    Drama,Fantasy,Horror            9.2      1536  9.010546  \n",
      "326              42     Crime,Drama,Mystery            9.1      1859  8.948036  \n",
      "71               58   Drama,Fantasy,Romance            9.0      1428  8.814855  \n",
      "1234             57         Adventure,Drama            8.9      1753  8.753908  \n",
      "...             ...                     ...            ...       ...       ...  \n",
      "1138            138            Comedy,Drama            2.8       527  3.635041  \n",
      "1197             89    Drama,Horror,Mystery            3.4      2065  3.614463  \n",
      "1208            122          Drama,Thriller            3.2      1132  3.593716  \n",
      "846              82     Action,Drama,Horror            3.0      1620  3.299791  \n",
      "90               86  Action,Adventure,Drama            3.1      8855  3.157038  \n",
      "\n",
      "[94 rows x 12 columns]\n"
     ]
    }
   ],
   "source": [
    "df = movie_rating_df.copy()\n",
    "\n",
    "def user_prefer_recommender(df, ask_adult, ask_start_year, ask_genre, top=100):\n",
    "    #ask_adult = yes/no\n",
    "    if ask_adult.lower() == 'yes':\n",
    "        df = df.loc[df['isAdult'] == 1]\n",
    "    elif ask_adult.lower() == 'no':\n",
    "        df = df.loc[df['isAdult'] == 0]\n",
    "\n",
    "    #ask_start_year = numeric\n",
    "# ------------------------------------------------------------------------------------------------------    line ini harusnya bukan str, tapi int.\n",
    "    df = df.loc[df['startYear'] >= str(ask_start_year)]\n",
    "\n",
    "    #ask_genre = 'all' atau yang lain\n",
    "    if ask_genre.lower() == 'all':\n",
    "        df = df\n",
    "    else:\n",
    "        def filter_genre(x):\n",
    "            if ask_genre.lower() in str(x).lower():\n",
    "                return True\n",
    "            else:\n",
    "                return False\n",
    "        df = df.loc[df['genres'].apply(lambda x: filter_genre(x))]\n",
    "\n",
    "    df = df.loc[df['numVotes'] >= m] #Mengambil film dengan m yang lebih besar dibanding numVotes\n",
    "    df = df.sort_values(by='score', ascending=False)\n",
    "    \n",
    "    #jika kamu hanya ingin mengambil 100 teratas\n",
    "    df = df[:top]\n",
    "    return df\n",
    "\n",
    "print(user_prefer_recommender(df,\n",
    "                       ask_adult = 'no',\n",
    "                        ask_start_year = 2000,\n",
    "                       ask_genre = 'drama'\n",
    "                       ))"
   ]
  },
  {
   "cell_type": "code",
   "execution_count": 17,
   "metadata": {},
   "outputs": [
    {
     "data": {
      "text/html": [
       "<div>\n",
       "<style scoped>\n",
       "    .dataframe tbody tr th:only-of-type {\n",
       "        vertical-align: middle;\n",
       "    }\n",
       "\n",
       "    .dataframe tbody tr th {\n",
       "        vertical-align: top;\n",
       "    }\n",
       "\n",
       "    .dataframe thead th {\n",
       "        text-align: right;\n",
       "    }\n",
       "</style>\n",
       "<table border=\"1\" class=\"dataframe\">\n",
       "  <thead>\n",
       "    <tr style=\"text-align: right;\">\n",
       "      <th></th>\n",
       "      <th>tconst</th>\n",
       "      <th>titleType</th>\n",
       "      <th>primaryTitle</th>\n",
       "      <th>originalTitle</th>\n",
       "      <th>isAdult</th>\n",
       "      <th>startYear</th>\n",
       "      <th>endYear</th>\n",
       "      <th>runtimeMinutes</th>\n",
       "      <th>genres</th>\n",
       "      <th>averageRating</th>\n",
       "      <th>numVotes</th>\n",
       "      <th>score</th>\n",
       "    </tr>\n",
       "  </thead>\n",
       "  <tbody>\n",
       "    <tr>\n",
       "      <th>0</th>\n",
       "      <td>tt0043745</td>\n",
       "      <td>short</td>\n",
       "      <td>Lion Down</td>\n",
       "      <td>Lion Down</td>\n",
       "      <td>0</td>\n",
       "      <td>1951</td>\n",
       "      <td>\\N</td>\n",
       "      <td>7</td>\n",
       "      <td>Animation,Comedy,Family</td>\n",
       "      <td>7.1</td>\n",
       "      <td>459</td>\n",
       "      <td>7.047392</td>\n",
       "    </tr>\n",
       "    <tr>\n",
       "      <th>1</th>\n",
       "      <td>tt0167491</td>\n",
       "      <td>video</td>\n",
       "      <td>Wicked Covergirls</td>\n",
       "      <td>Wicked Covergirls</td>\n",
       "      <td>1</td>\n",
       "      <td>1998</td>\n",
       "      <td>\\N</td>\n",
       "      <td>85</td>\n",
       "      <td>Adult</td>\n",
       "      <td>5.7</td>\n",
       "      <td>7</td>\n",
       "      <td>6.812575</td>\n",
       "    </tr>\n",
       "    <tr>\n",
       "      <th>2</th>\n",
       "      <td>tt6574096</td>\n",
       "      <td>tvEpisode</td>\n",
       "      <td>Shadow Play - Part 2</td>\n",
       "      <td>Shadow Play - Part 2</td>\n",
       "      <td>0</td>\n",
       "      <td>2017</td>\n",
       "      <td>\\N</td>\n",
       "      <td>22</td>\n",
       "      <td>Adventure,Animation,Comedy</td>\n",
       "      <td>8.5</td>\n",
       "      <td>240</td>\n",
       "      <td>7.910368</td>\n",
       "    </tr>\n",
       "    <tr>\n",
       "      <th>3</th>\n",
       "      <td>tt6941700</td>\n",
       "      <td>tvEpisode</td>\n",
       "      <td>RuPaul Roast</td>\n",
       "      <td>RuPaul Roast</td>\n",
       "      <td>0</td>\n",
       "      <td>2017</td>\n",
       "      <td>\\N</td>\n",
       "      <td>\\N</td>\n",
       "      <td>Reality-TV</td>\n",
       "      <td>8.0</td>\n",
       "      <td>11</td>\n",
       "      <td>6.954410</td>\n",
       "    </tr>\n",
       "    <tr>\n",
       "      <th>4</th>\n",
       "      <td>tt7305674</td>\n",
       "      <td>video</td>\n",
       "      <td>UCLA Track &amp; Field Promo</td>\n",
       "      <td>UCLA Track &amp; Field Promo</td>\n",
       "      <td>0</td>\n",
       "      <td>2017</td>\n",
       "      <td>\\N</td>\n",
       "      <td>\\N</td>\n",
       "      <td>Short,Sport</td>\n",
       "      <td>9.7</td>\n",
       "      <td>7</td>\n",
       "      <td>7.008379</td>\n",
       "    </tr>\n",
       "  </tbody>\n",
       "</table>\n",
       "</div>"
      ],
      "text/plain": [
       "      tconst  titleType              primaryTitle             originalTitle  \\\n",
       "0  tt0043745      short                 Lion Down                 Lion Down   \n",
       "1  tt0167491      video         Wicked Covergirls         Wicked Covergirls   \n",
       "2  tt6574096  tvEpisode      Shadow Play - Part 2      Shadow Play - Part 2   \n",
       "3  tt6941700  tvEpisode              RuPaul Roast              RuPaul Roast   \n",
       "4  tt7305674      video  UCLA Track & Field Promo  UCLA Track & Field Promo   \n",
       "\n",
       "   isAdult startYear endYear runtimeMinutes                      genres  \\\n",
       "0        0      1951      \\N              7     Animation,Comedy,Family   \n",
       "1        1      1998      \\N             85                       Adult   \n",
       "2        0      2017      \\N             22  Adventure,Animation,Comedy   \n",
       "3        0      2017      \\N             \\N                  Reality-TV   \n",
       "4        0      2017      \\N             \\N                 Short,Sport   \n",
       "\n",
       "   averageRating  numVotes     score  \n",
       "0            7.1       459  7.047392  \n",
       "1            5.7         7  6.812575  \n",
       "2            8.5       240  7.910368  \n",
       "3            8.0        11  6.954410  \n",
       "4            9.7         7  7.008379  "
      ]
     },
     "execution_count": 17,
     "metadata": {},
     "output_type": "execute_result"
    }
   ],
   "source": [
    "movie_rating_df.head()"
   ]
  },
  {
   "cell_type": "code",
   "execution_count": 20,
   "metadata": {},
   "outputs": [
    {
     "name": "stdout",
     "output_type": "stream",
     "text": [
      "<class 'pandas.core.frame.DataFrame'>\n",
      "Int64Index: 1376 entries, 0 to 1375\n",
      "Data columns (total 12 columns):\n",
      " #   Column          Non-Null Count  Dtype  \n",
      "---  ------          --------------  -----  \n",
      " 0   tconst          1376 non-null   object \n",
      " 1   titleType       1376 non-null   object \n",
      " 2   primaryTitle    1376 non-null   object \n",
      " 3   originalTitle   1376 non-null   object \n",
      " 4   isAdult         1376 non-null   int64  \n",
      " 5   startYear       1376 non-null   object \n",
      " 6   endYear         1376 non-null   object \n",
      " 7   runtimeMinutes  1376 non-null   object \n",
      " 8   genres          1376 non-null   object \n",
      " 9   averageRating   1376 non-null   float64\n",
      " 10  numVotes        1376 non-null   int64  \n",
      " 11  score           1376 non-null   float64\n",
      "dtypes: float64(2), int64(2), object(8)\n",
      "memory usage: 172.0+ KB\n"
     ]
    }
   ],
   "source": [
    "movie_rating_df.info()"
   ]
  },
  {
   "cell_type": "code",
   "execution_count": null,
   "metadata": {},
   "outputs": [],
   "source": []
  }
 ],
 "metadata": {
  "hide_input": false,
  "kernelspec": {
   "display_name": "Python 3",
   "language": "python",
   "name": "python3"
  },
  "language_info": {
   "codemirror_mode": {
    "name": "ipython",
    "version": 3
   },
   "file_extension": ".py",
   "mimetype": "text/x-python",
   "name": "python",
   "nbconvert_exporter": "python",
   "pygments_lexer": "ipython3",
   "version": "3.9.1"
  },
  "varInspector": {
   "cols": {
    "lenName": 16,
    "lenType": 16,
    "lenVar": 40
   },
   "kernels_config": {
    "python": {
     "delete_cmd_postfix": "",
     "delete_cmd_prefix": "del ",
     "library": "var_list.py",
     "varRefreshCmd": "print(var_dic_list())"
    },
    "r": {
     "delete_cmd_postfix": ") ",
     "delete_cmd_prefix": "rm(",
     "library": "var_list.r",
     "varRefreshCmd": "cat(var_dic_list()) "
    }
   },
   "types_to_exclude": [
    "module",
    "function",
    "builtin_function_or_method",
    "instance",
    "_Feature"
   ],
   "window_display": false
  }
 },
 "nbformat": 4,
 "nbformat_minor": 4
}
