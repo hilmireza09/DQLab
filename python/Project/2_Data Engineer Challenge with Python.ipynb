{
 "cells": [
  {
   "cell_type": "markdown",
   "metadata": {},
   "source": [
    "## ----------------------------------------------------CHAPTER 1"
   ]
  },
  {
   "cell_type": "markdown",
   "metadata": {},
   "source": [
    "### Data Engineer Coding Challenge"
   ]
  },
  {
   "cell_type": "code",
   "execution_count": 2,
   "metadata": {},
   "outputs": [
    {
     "name": "stderr",
     "output_type": "stream",
     "text": [
      "c:\\users\\user\\appdata\\local\\programs\\python\\python39\\lib\\site-packages\\bs4\\__init__.py:332: UserWarning: \"https://id.wikipedia.org/wiki/Demografi_Indonesia\" looks like a URL. Beautiful Soup is not an HTTP client. You should probably use an HTTP client like requests to get the document behind the URL, and feed that document to Beautiful Soup.\n",
      "  warnings.warn(\n"
     ]
    },
    {
     "ename": "AttributeError",
     "evalue": "'NoneType' object has no attribute 'find_all'",
     "output_type": "error",
     "traceback": [
      "\u001b[1;31m---------------------------------------------------------------------------\u001b[0m",
      "\u001b[1;31mAttributeError\u001b[0m                            Traceback (most recent call last)",
      "\u001b[1;32m<ipython-input-2-75a6e6cd85d6>\u001b[0m in \u001b[0;36m<module>\u001b[1;34m\u001b[0m\n\u001b[0;32m     15\u001b[0m \u001b[1;33m\u001b[0m\u001b[0m\n\u001b[0;32m     16\u001b[0m \u001b[1;31m#cari data dengan tag 'td'\u001b[0m\u001b[1;33m\u001b[0m\u001b[1;33m\u001b[0m\u001b[1;33m\u001b[0m\u001b[0m\n\u001b[1;32m---> 17\u001b[1;33m \u001b[0mlinks\u001b[0m \u001b[1;33m=\u001b[0m \u001b[0mmy_table\u001b[0m\u001b[1;33m.\u001b[0m\u001b[0mfind_all\u001b[0m\u001b[1;33m(\u001b[0m\u001b[1;34m'td'\u001b[0m\u001b[1;33m)\u001b[0m\u001b[1;33m\u001b[0m\u001b[1;33m\u001b[0m\u001b[0m\n\u001b[0m\u001b[0;32m     18\u001b[0m \u001b[1;33m\u001b[0m\u001b[0m\n\u001b[0;32m     19\u001b[0m \u001b[1;31m#buatlah lists kosong\u001b[0m\u001b[1;33m\u001b[0m\u001b[1;33m\u001b[0m\u001b[1;33m\u001b[0m\u001b[0m\n",
      "\u001b[1;31mAttributeError\u001b[0m: 'NoneType' object has no attribute 'find_all'"
     ]
    }
   ],
   "source": [
    "import sys\n",
    "sys.setrecursionlimit(5000)\n",
    "\n",
    "#import library yang dibutuhkan\n",
    "import pandas as pd\n",
    "import requests\n",
    "from bs4 import BeautifulSoup\n",
    "\n",
    "#buatlah request ke website\n",
    "website_url = 'https://id.wikipedia.org/wiki/Demografi_Indonesia'\n",
    "soup = BeautifulSoup(website_url, 'html.parser')\n",
    "\n",
    "#ambil table dengan class 'wikitable sortable'\n",
    "my_table = soup.find('table', {'class':'wikitable_sortable'})\n",
    "\n",
    "#cari data dengan tag 'td'\n",
    "links = my_table.find_all('td')\n",
    "\n",
    "#buatlah lists kosong \n",
    "nama = []\n",
    "luas_km = []\n",
    "populasi10 = []\n",
    "populasi20 = []\n",
    "\n",
    "#memasukkan data ke dalam list berdasarkan pola HTML\n",
    "for i, link in enumerate(links):\n",
    "\tif i in range(0, len(links), 4):\n",
    "\t\tnama.append(data.get_text().strip())\n",
    "\tif i in range(1, len(links), 4):\n",
    "\t\tluas_km.append(data.get_text().strip())\n",
    "\tif i in range(2, len(links), 4):\n",
    "\t\tpopulasi10.append(data.get_text().strip())\n",
    "\tif i in range(3, len(links), 4):\n",
    "\t\tpopulasi20.append(data.get_text().strip())\n",
    "\n",
    "#buatlah DataFrame dan masukkan ke CSV\n",
    "df = pd.DataFrame()\n",
    "df['Nama Provinsi'] = nama\n",
    "df['Luas km'] = luas\n",
    "df['Populasi 2010'] = populasi10\n",
    "df['Populasi 2020'] = populasi20\n",
    "df.to_csv('Indonesia_Demography_by_Province.csv', index=False, encoding='utf-8', quoting=1)\n",
    "df"
   ]
  },
  {
   "cell_type": "markdown",
   "metadata": {},
   "source": [
    "## edited coding from the true answer "
   ]
  },
  {
   "cell_type": "code",
   "execution_count": 46,
   "metadata": {},
   "outputs": [
    {
     "name": "stderr",
     "output_type": "stream",
     "text": [
      "c:\\users\\user\\appdata\\local\\programs\\python\\python39\\lib\\site-packages\\bs4\\__init__.py:332: UserWarning: \"https://id.wikipedia.org/wiki/Demografi_Indonesia\" looks like a URL. Beautiful Soup is not an HTTP client. You should probably use an HTTP client like requests to get the document behind the URL, and feed that document to Beautiful Soup.\n",
      "  warnings.warn(\n"
     ]
    },
    {
     "ename": "AttributeError",
     "evalue": "'NoneType' object has no attribute 'findall'",
     "output_type": "error",
     "traceback": [
      "\u001b[1;31m---------------------------------------------------------------------------\u001b[0m",
      "\u001b[1;31mAttributeError\u001b[0m                            Traceback (most recent call last)",
      "\u001b[1;32m<ipython-input-46-acc999ebbbac>\u001b[0m in \u001b[0;36m<module>\u001b[1;34m\u001b[0m\n\u001b[0;32m     15\u001b[0m \u001b[1;33m\u001b[0m\u001b[0m\n\u001b[0;32m     16\u001b[0m \u001b[1;31m#cari data dengan tag 'td'\u001b[0m\u001b[1;33m\u001b[0m\u001b[1;33m\u001b[0m\u001b[1;33m\u001b[0m\u001b[0m\n\u001b[1;32m---> 17\u001b[1;33m \u001b[0mlinks\u001b[0m \u001b[1;33m=\u001b[0m \u001b[0mmy_table\u001b[0m\u001b[1;33m.\u001b[0m\u001b[0mfindall\u001b[0m\u001b[1;33m(\u001b[0m\u001b[1;34m'td'\u001b[0m\u001b[1;33m)\u001b[0m\u001b[1;33m\u001b[0m\u001b[1;33m\u001b[0m\u001b[0m\n\u001b[0m\u001b[0;32m     18\u001b[0m \u001b[1;33m\u001b[0m\u001b[0m\n\u001b[0;32m     19\u001b[0m \u001b[1;31m#buatlah lists kosong\u001b[0m\u001b[1;33m\u001b[0m\u001b[1;33m\u001b[0m\u001b[1;33m\u001b[0m\u001b[0m\n",
      "\u001b[1;31mAttributeError\u001b[0m: 'NoneType' object has no attribute 'findall'"
     ]
    }
   ],
   "source": [
    "import sys\n",
    "sys.setrecursionlimit(5000)\n",
    "\n",
    "#import library yang dibutuhkan\n",
    "import pandas as pd\n",
    "import requests\n",
    "from bs4 import BeautifulSoup\n",
    "\n",
    "#buatlah request ke website\n",
    "website_url = 'https://id.wikipedia.org/wiki/Demografi_Indonesia'\n",
    "soup = BeautifulSoup(website_url, 'html.parser')\n",
    "\n",
    "#ambil table dengan class 'wikitable sortable'\n",
    "my_table = soup.find('table', {'class':'wikitable_sortable'})\n",
    "\n",
    "#cari data dengan tag 'td'\n",
    "links = my_table.find_all('td')\n",
    "\n",
    "#buatlah lists kosong \n",
    "nama = []\n",
    "luas_km = []\n",
    "populasi10 = []\n",
    "populasi20 = []\n",
    "\n",
    "#memasukkan data ke dalam list berdasarkan pola HTML\n",
    "for i, link in enumerate(links):\n",
    "\tif i in range(0, len(links), 4):\n",
    "\t\tnama.append(data.get_text().strip())\n",
    "\tif i in range(1, len(links), 4):\n",
    "\t\tluas_km.append(data.get_text().strip())\n",
    "\tif i in range(2, len(links), 4):\n",
    "\t\tpopulasi10.append(data.get_text().strip())\n",
    "\tif i in range(3, len(links), 4):\n",
    "\t\tpopulasi20.append(data.get_text().strip())\n",
    "\n",
    "#buatlah DataFrame dan masukkan ke CSV\n",
    "df = pd.DataFrame()\n",
    "df['Nama Provinsi'] = nama\n",
    "df['Luas km'] = luas\n",
    "df['Populasi 2010'] = populasi10\n",
    "df['Populasi 2020'] = populasi20\n",
    "df.to_csv('Indonesia_Demography_by_Province.csv', index=False, encoding='utf-8', quoting=1)\n",
    "df"
   ]
  },
  {
   "cell_type": "code",
   "execution_count": 122,
   "metadata": {},
   "outputs": [
    {
     "name": "stdout",
     "output_type": "stream",
     "text": [
      "String is not accepted.\n",
      "String is accepted\n",
      "String is accepted\n",
      "String is accepted\n",
      "String is accepted\n",
      "String is accepted\n",
      "String is accepted\n",
      "String is not accepted.\n",
      "String is not accepted.\n"
     ]
    }
   ],
   "source": [
    "#import library yang dibutuhkan\n",
    "import re\n",
    "\n",
    "#function email_check\n",
    "def email_check(email):\n",
    "    splited_text = email.split('@') \n",
    "    regex = re.compile('[@!#$%^&*()<>?/\\|}{~:]')\n",
    "    if(regex.search(splited_text[0]) == None and splited_text[0][0].isnumeric() == False\n",
    "      and search(\"-\", splited_text[0]) == None):\n",
    "        print(\"String is accepted\")          \n",
    "    else:\n",
    "        print(\"String is not accepted.\") \n",
    "    \n",
    "    \n",
    "    \n",
    "#Masukkan data email ke dalam list\n",
    "emails = ['my-name@someemail.com', 'myname@someemail.com', 'my.name@someemail.com',\n",
    "         'my.name2019@someemail.com', 'my.name.2019@someemail.com', 'somename.201903@someemail.com',\n",
    "         'my_name.201903@someemail.com', '201903myname@someemail.com', '201903myname@someemail.com']\n",
    "\n",
    "\n",
    "#Looping untuk pengecekan Pass atau Not Pass, gunakan variabel email untuk mengiterasi emails\n",
    "for email in emails:\n",
    "    email_check(email)\n"
   ]
  },
  {
   "cell_type": "code",
   "execution_count": 98,
   "metadata": {
    "scrolled": true
   },
   "outputs": [
    {
     "name": "stdout",
     "output_type": "stream",
     "text": [
      "Function and Regular Expression\n",
      "\n",
      "Sebagai seorang Data Engineer, Anda diminta untuk membuat suatu fungsi yang bernama “email_check” untuk menyaring beberapa email menggunakan regular expression dalam bahasa pemrograman Python. Fungsi ini akan menerima suatu parameter yang bernama “input” yang mana merupakan email dan output-nya akan berupa “Pass” atau “Not Pass”. Fungsinya harus memenuhi pola berikut :\n",
      "Pola \tPass / Not Pass\n",
      "\n",
      "my-name@someemail.com\n",
      "\t\n",
      "\n",
      "Not Pass\n",
      "\n",
      "myname@someemail.com\n",
      "\t\n",
      "\n",
      "Pass\n",
      "\n",
      "my.name@someemail.com\n",
      "\t\n",
      "\n",
      "Pass\n",
      "\n",
      "my.name2019@someemail.com\n",
      "\t\n",
      "\n",
      "Pass\n",
      "\n",
      "my.name.2019@someemail.com\n",
      "\t\n",
      "\n",
      "Not Pass\n",
      "\n",
      "somename.201903@someemail.com\n",
      "\t\n",
      "\n",
      "Not Pass\n",
      "\n",
      "my_name.201903@someemail.com\n",
      "\t\n",
      "\n",
      "Pass\n",
      "\n",
      "201903myname@someemail.com\n",
      "\t\n",
      "\n",
      "Not Pass\n",
      "\n",
      "201903.myname@someemail.com\n",
      "\t\n",
      "\n",
      "Not Pass\n"
     ]
    }
   ],
   "source": [
    "print('''Function and Regular Expression\n",
    "\n",
    "Sebagai seorang Data Engineer, Anda diminta untuk membuat suatu fungsi yang bernama “email_check” untuk menyaring beberapa email menggunakan regular expression dalam bahasa pemrograman Python. Fungsi ini akan menerima suatu parameter yang bernama “input” yang mana merupakan email dan output-nya akan berupa “Pass” atau “Not Pass”. Fungsinya harus memenuhi pola berikut :\n",
    "Pola \tPass / Not Pass\n",
    "\n",
    "my-name@someemail.com\n",
    "\t\n",
    "\n",
    "Not Pass\n",
    "\n",
    "myname@someemail.com\n",
    "\t\n",
    "\n",
    "Pass\n",
    "\n",
    "my.name@someemail.com\n",
    "\t\n",
    "\n",
    "Pass\n",
    "\n",
    "my.name2019@someemail.com\n",
    "\t\n",
    "\n",
    "Pass\n",
    "\n",
    "my.name.2019@someemail.com\n",
    "\t\n",
    "\n",
    "Not Pass\n",
    "\n",
    "somename.201903@someemail.com\n",
    "\t\n",
    "\n",
    "Not Pass\n",
    "\n",
    "my_name.201903@someemail.com\n",
    "\t\n",
    "\n",
    "Pass\n",
    "\n",
    "201903myname@someemail.com\n",
    "\t\n",
    "\n",
    "Not Pass\n",
    "\n",
    "201903.myname@someemail.com\n",
    "\t\n",
    "\n",
    "Not Pass''')"
   ]
  },
  {
   "cell_type": "code",
   "execution_count": 117,
   "metadata": {},
   "outputs": [
    {
     "name": "stdout",
     "output_type": "stream",
     "text": [
      "my.name\n",
      "String is not accepted.\n"
     ]
    }
   ],
   "source": [
    "from re import search\n",
    "text = 'my.name@someemail.com'\n",
    "arr = text.split('@')\n",
    "print(arr[0])\n",
    "\n",
    "# check = arr[0].find('-') != -1\n",
    "# print(check)\n",
    "\n",
    "# check2 = arr[0].index('-')\n",
    "# print(check2)\n",
    "\n",
    "# check3 = search('-', arr[0])\n",
    "# print(check3)\n",
    "\n",
    "regex = re.compile('[@!#$%^&*()<>?/\\|}{~:]')\n",
    "if(regex.search(arr[0]) == None and arr[0][0].isnumeric() == False \n",
    "  and search('-', arr[0])):\n",
    "    print(\"String is accepted\")\n",
    "          \n",
    "else:\n",
    "    print(\"String is not accepted.\")\n",
    "    \n"
   ]
  },
  {
   "cell_type": "code",
   "execution_count": 121,
   "metadata": {},
   "outputs": [
    {
     "name": "stdout",
     "output_type": "stream",
     "text": [
      "ok\n"
     ]
    }
   ],
   "source": [
    "from re import search\n",
    "str=\"my.name@someemail.com\"\n",
    "substring = \"tack\"\n",
    "if search(\"-\", str) == None:\n",
    "    print (\"ok\")\n",
    "else:\n",
    "    print (\"no\")"
   ]
  },
  {
   "cell_type": "code",
   "execution_count": null,
   "metadata": {},
   "outputs": [],
   "source": []
  }
 ],
 "metadata": {
  "hide_input": false,
  "kernelspec": {
   "display_name": "Python 3",
   "language": "python",
   "name": "python3"
  },
  "language_info": {
   "codemirror_mode": {
    "name": "ipython",
    "version": 3
   },
   "file_extension": ".py",
   "mimetype": "text/x-python",
   "name": "python",
   "nbconvert_exporter": "python",
   "pygments_lexer": "ipython3",
   "version": "3.9.1"
  },
  "varInspector": {
   "cols": {
    "lenName": 16,
    "lenType": 16,
    "lenVar": 40
   },
   "kernels_config": {
    "python": {
     "delete_cmd_postfix": "",
     "delete_cmd_prefix": "del ",
     "library": "var_list.py",
     "varRefreshCmd": "print(var_dic_list())"
    },
    "r": {
     "delete_cmd_postfix": ") ",
     "delete_cmd_prefix": "rm(",
     "library": "var_list.r",
     "varRefreshCmd": "cat(var_dic_list()) "
    }
   },
   "types_to_exclude": [
    "module",
    "function",
    "builtin_function_or_method",
    "instance",
    "_Feature"
   ],
   "window_display": false
  }
 },
 "nbformat": 4,
 "nbformat_minor": 4
}
