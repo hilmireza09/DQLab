{
 "cells": [
  {
   "cell_type": "code",
   "execution_count": 1,
   "metadata": {},
   "outputs": [
    {
     "name": "stdout",
     "output_type": "stream",
     "text": [
      "['cuci tangan', 'pakai masker', 'jaga jarak']\n"
     ]
    }
   ],
   "source": [
    "bersatulawancovid = ['cuci tangan', 'pakai masker', 'jaga jarak']\n",
    "print(bersatulawancovid)"
   ]
  },
  {
   "cell_type": "markdown",
   "metadata": {},
   "source": [
    "## --------------------------------------------------------CHAPTER 2"
   ]
  },
  {
   "cell_type": "markdown",
   "metadata": {},
   "source": [
    "### Bermain AP"
   ]
  },
  {
   "cell_type": "code",
   "execution_count": 3,
   "metadata": {},
   "outputs": [],
   "source": [
    "import requests\n",
    "resp = requests.get('https://data.covid19.go.id/public/api/update.json')"
   ]
  },
  {
   "cell_type": "code",
   "execution_count": 5,
   "metadata": {},
   "outputs": [
    {
     "name": "stdout",
     "output_type": "stream",
     "text": [
      "{'Server': 'nginx', 'Date': 'Sat, 14 Aug 2021 14:11:23 GMT', 'Content-Type': 'application/json', 'Transfer-Encoding': 'chunked', 'Connection': 'keep-alive', 'Vary': 'Accept-Encoding, Accept-Encoding', 'Last-Modified': 'Sat, 14 Aug 2021 14:09:31 GMT', 'ETag': 'W/\"6117ce9b-3223d\"', 'X-Content-Type-Options': 'nosniff, nosniff', 'X-XSS-Protection': '1; mode=block, 1; mode=block', 'Strict-Transport-Security': 'max-age=31536000; includeSubDomains; preload', 'Content-Encoding': 'gzip'}\n"
     ]
    }
   ],
   "source": [
    "import requests\n",
    "resp = requests.get('https://data.covid19.go.id/public/api/update.json')\n",
    "print(resp.headers)"
   ]
  },
  {
   "cell_type": "code",
   "execution_count": 9,
   "metadata": {},
   "outputs": [],
   "source": [
    "import requests\n",
    "resp = requests.get('https://data.covid19.go.id/public/api/update.json')\n",
    "\n",
    "cov_id_raw = resp.json()"
   ]
  },
  {
   "cell_type": "code",
   "execution_count": 19,
   "metadata": {},
   "outputs": [
    {
     "name": "stdout",
     "output_type": "stream",
     "text": [
      "Length of cov_id_raw : 2.\n",
      "Komponen cov_id_raw  : dict_keys(['data', 'update']).\n"
     ]
    }
   ],
   "source": [
    "import requests\n",
    "resp = requests.get('https://data.covid19.go.id/public/api/update.json')\n",
    "cov_id_raw = resp.json()\n",
    "\n",
    "print('Length of cov_id_raw : %d.' %len(cov_id_raw))\n",
    "print('Komponen cov_id_raw  : %s.' %cov_id_raw.keys())\n",
    "cov_id_update = cov_id_raw['update']\n"
   ]
  },
  {
   "cell_type": "code",
   "execution_count": 24,
   "metadata": {},
   "outputs": [
    {
     "name": "stdout",
     "output_type": "stream",
     "text": [
      "Tanggal pembaharuan data penambahan kasus   : 2021-08-14\n",
      "jumlah penambahan kasus sembuh   : 31880\n",
      "jumlah penambahan kasus meninggal   : 1270\n",
      "jumlah total kasus positif hingga saat ini   : 3833541\n",
      "jumlah total kasus meninggal hingga saat ini   : 116366\n"
     ]
    }
   ],
   "source": [
    "import requests\n",
    "resp = requests.get('https://data.covid19.go.id/public/api/update.json')\n",
    "cov_id_raw = resp.json()\n",
    "cov_id_update = cov_id_raw['update']\n",
    "\n",
    "print('Tanggal pembaharuan data penambahan kasus   :', cov_id_update['penambahan']['tanggal'])\n",
    "print('jumlah penambahan kasus sembuh   :', cov_id_update['penambahan']['jumlah_sembuh'])\n",
    "print('jumlah penambahan kasus meninggal   :', cov_id_update['penambahan']['jumlah_meninggal'])\n",
    "print('jumlah total kasus positif hingga saat ini   :', cov_id_update['total']['jumlah_positif'])\n",
    "print('jumlah total kasus meninggal hingga saat ini   :', cov_id_update['total']['jumlah_meninggal'])"
   ]
  },
  {
   "cell_type": "markdown",
   "metadata": {},
   "source": [
    "## ------------------------------------------------------------CHAPTER 3"
   ]
  },
  {
   "cell_type": "markdown",
   "metadata": {},
   "source": [
    "### COVID-19 Di Sekitar"
   ]
  },
  {
   "cell_type": "code",
   "execution_count": 2,
   "metadata": {},
   "outputs": [],
   "source": [
    "import requests\n",
    "resp_jabar = requests.get('https://data.covid19.go.id/public/api/prov_detail_JAWA_BARAT.json')\n",
    "cov_jabar_raw = resp_jabar.json()"
   ]
  },
  {
   "cell_type": "code",
   "execution_count": 5,
   "metadata": {},
   "outputs": [
    {
     "name": "stdout",
     "output_type": "stream",
     "text": [
      "Nama-nama elemen utama:\n",
      " dict_keys(['last_date', 'provinsi', 'kasus_total', 'kasus_tanpa_tgl', 'kasus_dengan_tgl', 'meninggal_persen', 'meninggal_tanpa_tgl', 'meninggal_dengan_tgl', 'sembuh_persen', 'sembuh_tanpa_tgl', 'sembuh_dengan_tgl', 'list_perkembangan', 'data'])\n",
      "\n",
      "Jumlah total kasus COVID-19 di Jawa Barat                 : 651574\n",
      "Persentase kematian akibat COVID-19 di Jawa Barat         : 1.729965.2%\n",
      "Persentase tingkat kesembuhan dari COVID-19 di Jawa Barat : 88.394258.2%\n"
     ]
    }
   ],
   "source": [
    "import requests\n",
    "resp_jabar = requests.get('https://data.covid19.go.id/public/api/prov_detail_JAWA_BARAT.json')\n",
    "cov_jabar_raw = resp_jabar.json()\n",
    "\n",
    "print('Nama-nama elemen utama:\\n', cov_jabar_raw.keys())\n",
    "print('\\nJumlah total kasus COVID-19 di Jawa Barat                 : %d' %cov_jabar_raw['kasus_total'])\n",
    "print('Persentase kematian akibat COVID-19 di Jawa Barat         : %f.2%%' %cov_jabar_raw['meninggal_persen'])\n",
    "print('Persentase tingkat kesembuhan dari COVID-19 di Jawa Barat : %f.2%%' %cov_jabar_raw['sembuh_persen'])"
   ]
  },
  {
   "cell_type": "code",
   "execution_count": 9,
   "metadata": {},
   "outputs": [
    {
     "name": "stdout",
     "output_type": "stream",
     "text": [
      "<class 'pandas.core.frame.DataFrame'>\n",
      "RangeIndex: 530 entries, 0 to 529\n",
      "Data columns (total 9 columns):\n",
      " #   Column                        Non-Null Count  Dtype\n",
      "---  ------                        --------------  -----\n",
      " 0   tanggal                       530 non-null    int64\n",
      " 1   KASUS                         530 non-null    int64\n",
      " 2   MENINGGAL                     530 non-null    int64\n",
      " 3   SEMBUH                        530 non-null    int64\n",
      " 4   DIRAWAT_OR_ISOLASI            530 non-null    int64\n",
      " 5   AKUMULASI_KASUS               530 non-null    int64\n",
      " 6   AKUMULASI_SEMBUH              530 non-null    int64\n",
      " 7   AKUMULASI_MENINGGAL           530 non-null    int64\n",
      " 8   AKUMULASI_DIRAWAT_OR_ISOLASI  530 non-null    int64\n",
      "dtypes: int64(9)\n",
      "memory usage: 37.4 KB\n",
      "Info cov_jabar:\n",
      " None\n",
      "\n",
      "Lima data teratas cov_jabar:\n",
      "          tanggal  KASUS  ...  AKUMULASI_MENINGGAL  AKUMULASI_DIRAWAT_OR_ISOLASI\n",
      "0  1583107200000      3  ...                    0                             3\n",
      "1  1583193600000      1  ...                    1                             3\n",
      "2  1583280000000      1  ...                    1                             4\n",
      "3  1583366400000      1  ...                    1                             5\n",
      "4  1583452800000      1  ...                    1                             6\n",
      "\n",
      "[5 rows x 9 columns]\n"
     ]
    }
   ],
   "source": [
    "import numpy as np\n",
    "import pandas as pd\n",
    "import requests\n",
    "resp_jabar = requests.get('https://data.covid19.go.id/public/api/prov_detail_JAWA_BARAT.json')\n",
    "cov_jabar_raw = resp_jabar.json()\n",
    "\n",
    "cov_jabar = pd.DataFrame(cov_jabar_raw['list_perkembangan'])\n",
    "print('Info cov_jabar:\\n', cov_jabar.info())\n",
    "print('\\nLima data teratas cov_jabar:\\n', cov_jabar.head())"
   ]
  },
  {
   "cell_type": "code",
   "execution_count": 10,
   "metadata": {},
   "outputs": [
    {
     "name": "stdout",
     "output_type": "stream",
     "text": [
      "Lima data teratas:\n",
      "      tanggal  kasus_baru  meninggal  sembuh\n",
      "0 2020-03-02           3          0       0\n",
      "1 2020-03-03           1          1       0\n",
      "2 2020-03-04           1          0       0\n",
      "3 2020-03-05           1          0       0\n",
      "4 2020-03-06           1          0       0\n"
     ]
    }
   ],
   "source": [
    "import numpy as np\n",
    "import pandas as pd\n",
    "import requests\n",
    "resp_jabar = requests.get('https://data.covid19.go.id/public/api/prov_detail_JAWA_BARAT.json')\n",
    "cov_jabar_raw = resp_jabar.json()\n",
    "cov_jabar = pd.DataFrame(cov_jabar_raw['list_perkembangan'])\n",
    "\n",
    "cov_jabar_tidy = (cov_jabar.drop(columns=[item for item in cov_jabar.columns \n",
    "                                               if item.startswith('AKUMULASI') \n",
    "                                                  or item.startswith('DIRAWAT')])\n",
    "                           .rename(columns=str.lower)\n",
    "                           .rename(columns={'kasus': 'kasus_baru'})\n",
    "                  )\n",
    "cov_jabar_tidy['tanggal'] = pd.to_datetime(cov_jabar_tidy['tanggal']*1e6, unit='ns')\n",
    "print('Lima data teratas:\\n', cov_jabar_tidy.head())"
   ]
  },
  {
   "cell_type": "code",
   "execution_count": 11,
   "metadata": {},
   "outputs": [],
   "source": [
    "import matplotlib.pyplot as plt"
   ]
  },
  {
   "cell_type": "code",
   "execution_count": 20,
   "metadata": {},
   "outputs": [
    {
     "data": {
      "text/plain": [
       "<Figure size 432x288 with 0 Axes>"
      ]
     },
     "metadata": {},
     "output_type": "display_data"
    },
    {
     "data": {
      "image/png": "[encoded data removed]",
      "text/plain": [
       "<Figure size 720x360 with 1 Axes>"
      ]
     },
     "metadata": {
      "needs_background": "light"
     },
     "output_type": "display_data"
    }
   ],
   "source": [
    "import numpy as np\n",
    "import pandas as pd\n",
    "import requests\n",
    "resp_jabar = requests.get('https://data.covid19.go.id/public/api/prov_detail_JAWA_BARAT.json')\n",
    "cov_jabar_raw = resp_jabar.json()\n",
    "cov_jabar = pd.DataFrame(cov_jabar_raw['list_perkembangan'])\n",
    "\n",
    "cov_jabar_tidy = (cov_jabar.drop(columns=[item for item in cov_jabar.columns \n",
    "                                               if item.startswith('AKUMULASI') \n",
    "                                                  or item.startswith('DIRAWAT')])\n",
    "                           .rename(columns=str.lower)\n",
    "                           .rename(columns={'kasus': 'kasus_baru'})\n",
    "                  )\n",
    "cov_jabar_tidy['tanggal'] = pd.to_datetime(cov_jabar_tidy['tanggal']*1e6, unit='ns')\n",
    "\n",
    "import matplotlib.pyplot as plt\n",
    "\n",
    "plt.clf()\n",
    "fig, ax = plt.subplots(figsize=(10,5))\n",
    "ax.bar(data=cov_jabar_tidy, x='tanggal', height='kasus_baru')\n",
    "plt.show()"
   ]
  },
  {
   "cell_type": "code",
   "execution_count": 27,
   "metadata": {},
   "outputs": [
    {
     "name": "stderr",
     "output_type": "stream",
     "text": [
      "<ipython-input-27-cc44278a3d54>:30: UserWarning: FixedFormatter should only be used together with FixedLocator\n",
      "  ax.set_xticklabels(ax.get_xticks(), rotation=90)\n"
     ]
    },
    {
     "data": {
      "text/plain": [
       "<Figure size 432x288 with 0 Axes>"
      ]
     },
     "metadata": {},
     "output_type": "display_data"
    },
    {
     "data": {
      "image/png": "[encoded data removed]",
      "text/plain": [
       "<Figure size 720x360 with 1 Axes>"
      ]
     },
     "metadata": {
      "needs_background": "light"
     },
     "output_type": "display_data"
    }
   ],
   "source": [
    "import numpy as np\n",
    "import pandas as pd\n",
    "import requests\n",
    "resp_jabar = requests.get('https://data.covid19.go.id/public/api/prov_detail_JAWA_BARAT.json')\n",
    "cov_jabar_raw = resp_jabar.json()\n",
    "cov_jabar = pd.DataFrame(cov_jabar_raw['list_perkembangan'])\n",
    "\n",
    "cov_jabar_tidy = (cov_jabar.drop(columns=[item for item in cov_jabar.columns \n",
    "                                               if item.startswith('AKUMULASI') \n",
    "                                                  or item.startswith('DIRAWAT')])\n",
    "                           .rename(columns=str.lower)\n",
    "                           .rename(columns={'kasus': 'kasus_baru'})\n",
    "                  )\n",
    "cov_jabar_tidy['tanggal'] = pd.to_datetime(cov_jabar_tidy['tanggal']*1e6, unit='ns')\n",
    "\n",
    "import matplotlib.pyplot as plt\n",
    "import matplotlib.dates as mdates\n",
    "\n",
    "plt.clf()\n",
    "fig, ax = plt.subplots(figsize=(10,5))\n",
    "ax.bar(data=cov_jabar_tidy, x='tanggal', height='kasus_baru', color='salmon')\n",
    "fig.suptitle('Kasus Harian Positif COVID-19 di Jawa Barat', \n",
    "             y=1.00, fontsize=16, fontweight='bold', ha='center')\n",
    "ax.set_title('Terjadi pelonjakan kasus di awal bulan Juli akibat klaster Secapa AD Bandung',\n",
    "             fontsize=10)\n",
    "ax.set_xlabel('')\n",
    "ax.set_ylabel('Jumlah kasus')\n",
    "ax.text(1, -0.3, 'Sumber data: covid.19.go.id', color='blue',\n",
    "        ha='right', transform=ax.transAxes)\n",
    "ax.set_xticklabels(ax.get_xticks(), rotation=90)\n",
    "\n",
    "ax.xaxis.set_major_locator(mdates.MonthLocator())\n",
    "ax.xaxis.set_major_formatter(mdates.DateFormatter('%b %Y'))\n",
    "\n",
    "plt.grid(axis='y')\n",
    "plt.tight_layout()\n",
    "plt.show()"
   ]
  },
  {
   "cell_type": "code",
   "execution_count": 31,
   "metadata": {},
   "outputs": [
    {
     "name": "stderr",
     "output_type": "stream",
     "text": [
      "<ipython-input-31-94f9d1046354>:28: UserWarning: FixedFormatter should only be used together with FixedLocator\n",
      "  ax.set_xticklabels(ax.get_xticks(), rotation=90)\n"
     ]
    },
    {
     "data": {
      "text/plain": [
       "<Figure size 432x288 with 0 Axes>"
      ]
     },
     "metadata": {},
     "output_type": "display_data"
    },
    {
     "data": {
      "image/png": "[encoded data removed]",
      "text/plain": [
       "<Figure size 720x360 with 1 Axes>"
      ]
     },
     "metadata": {
      "needs_background": "light"
     },
     "output_type": "display_data"
    }
   ],
   "source": [
    "import numpy as np\n",
    "import pandas as pd\n",
    "import requests\n",
    "resp_jabar = requests.get('https://data.covid19.go.id/public/api/prov_detail_JAWA_BARAT.json')\n",
    "cov_jabar_raw = resp_jabar.json()\n",
    "cov_jabar = pd.DataFrame(cov_jabar_raw['list_perkembangan'])\n",
    "\n",
    "cov_jabar_tidy = (cov_jabar.drop(columns=[item for item in cov_jabar.columns \n",
    "                                               if item.startswith('AKUMULASI') \n",
    "                                                  or item.startswith('DIRAWAT')])\n",
    "                           .rename(columns=str.lower)\n",
    "                           .rename(columns={'kasus': 'kasus_baru'})\n",
    "                  )\n",
    "cov_jabar_tidy['tanggal'] = pd.to_datetime(cov_jabar_tidy['tanggal']*1e6, unit='ns')\n",
    "\n",
    "import matplotlib.pyplot as plt\n",
    "import matplotlib.dates as mdates\n",
    "\n",
    "plt.clf()\n",
    "fig, ax = plt.subplots(figsize=(10,5))\n",
    "ax.bar(data=cov_jabar_tidy, x='tanggal', height='sembuh', color='olivedrab')\n",
    "ax.set_title('Kasus Harian Sembuh Dari COVID-19 di Jawa Barat',\n",
    "             fontsize=22)\n",
    "ax.set_xlabel('')\n",
    "ax.set_ylabel('Jumlah kasus')\n",
    "ax.text(1, -0.3, 'Sumber data: covid.19.go.id', color='blue',\n",
    "        ha='right', transform=ax.transAxes)\n",
    "ax.set_xticklabels(ax.get_xticks(), rotation=90)\n",
    "\n",
    "ax.xaxis.set_major_locator(mdates.MonthLocator())\n",
    "ax.xaxis.set_major_formatter(mdates.DateFormatter('%b %Y'))\n",
    "\n",
    "plt.grid(axis='y')\n",
    "plt.tight_layout()\n",
    "plt.show()"
   ]
  },
  {
   "cell_type": "code",
   "execution_count": 33,
   "metadata": {},
   "outputs": [
    {
     "name": "stderr",
     "output_type": "stream",
     "text": [
      "<ipython-input-33-3cd80ec509df>:28: UserWarning: FixedFormatter should only be used together with FixedLocator\n",
      "  ax.set_xticklabels(ax.get_xticks(), rotation=90)\n"
     ]
    },
    {
     "data": {
      "text/plain": [
       "<Figure size 432x288 with 0 Axes>"
      ]
     },
     "metadata": {},
     "output_type": "display_data"
    },
    {
     "data": {
      "image/png": "[encoded data removed]",
      "text/plain": [
       "<Figure size 720x360 with 1 Axes>"
      ]
     },
     "metadata": {
      "needs_background": "light"
     },
     "output_type": "display_data"
    }
   ],
   "source": [
    "import numpy as np\n",
    "import pandas as pd\n",
    "import requests\n",
    "resp_jabar = requests.get('https://data.covid19.go.id/public/api/prov_detail_JAWA_BARAT.json')\n",
    "cov_jabar_raw = resp_jabar.json()\n",
    "cov_jabar = pd.DataFrame(cov_jabar_raw['list_perkembangan'])\n",
    "\n",
    "cov_jabar_tidy = (cov_jabar.drop(columns=[item for item in cov_jabar.columns \n",
    "                                               if item.startswith('AKUMULASI') \n",
    "                                                  or item.startswith('DIRAWAT')])\n",
    "                           .rename(columns=str.lower)\n",
    "                           .rename(columns={'kasus': 'kasus_baru'})\n",
    "                  )\n",
    "cov_jabar_tidy['tanggal'] = pd.to_datetime(cov_jabar_tidy['tanggal']*1e6, unit='ns')\n",
    "\n",
    "import matplotlib.pyplot as plt\n",
    "import matplotlib.dates as mdates\n",
    "\n",
    "plt.clf()\n",
    "fig, ax = plt.subplots(figsize=(10,5))\n",
    "ax.bar(data=cov_jabar_tidy, x='tanggal', height='meninggal', color='slategrey')\n",
    "ax.set_title('Kasus Harian Meninggal Dari COVID-19 di Jawa Barat',\n",
    "             fontsize=22)\n",
    "ax.set_xlabel('')\n",
    "ax.set_ylabel('Jumlah kasus')\n",
    "ax.text(1, -0.3, 'Sumber data: covid.19.go.id', color='blue',\n",
    "        ha='right', transform=ax.transAxes)\n",
    "ax.set_xticklabels(ax.get_xticks(), rotation=90)\n",
    "\n",
    "ax.xaxis.set_major_locator(mdates.MonthLocator())\n",
    "ax.xaxis.set_major_formatter(mdates.DateFormatter('%b %Y'))\n",
    "\n",
    "plt.grid(axis='y')\n",
    "plt.tight_layout()\n",
    "plt.show()"
   ]
  },
  {
   "cell_type": "markdown",
   "metadata": {},
   "source": [
    "## --------------------------------------------------------CHAPTER 4"
   ]
  },
  {
   "cell_type": "markdown",
   "metadata": {},
   "source": [
    "### Menggali Lebih Dalam"
   ]
  },
  {
   "cell_type": "code",
   "execution_count": 12,
   "metadata": {},
   "outputs": [
    {
     "name": "stdout",
     "output_type": "stream",
     "text": [
      "Info cov_jabar_pekanan:\n",
      "<class 'pandas.core.frame.DataFrame'>\n",
      "RangeIndex: 76 entries, 0 to 75\n",
      "Data columns (total 3 columns):\n",
      " #   Column    Non-Null Count  Dtype\n",
      "---  ------    --------------  -----\n",
      " 0   tahun     76 non-null     int64\n",
      " 1   pekan_ke  76 non-null     int64\n",
      " 2   jumlah    76 non-null     int64\n",
      "dtypes: int64(3)\n",
      "memory usage: 1.9 KB\n",
      "None\n",
      "\n",
      "Lima data teratas cov_jabar_pekanan:\n",
      "    tahun  pekan_ke  jumlah\n",
      "0   2020        10       7\n",
      "1   2020        11       5\n",
      "2   2020        12      52\n",
      "3   2020        13     104\n",
      "4   2020        14     131\n",
      "\n",
      "Lima data terbaru cov_jabar_pekanan:\n",
      "     tahun  pekan_ke  jumlah\n",
      "71   2021        28   64579\n",
      "72   2021        29   52479\n",
      "73   2021        30   42727\n",
      "74   2021        31   25186\n",
      "75   2021        32   14592\n"
     ]
    }
   ],
   "source": [
    "import numpy as np\n",
    "import pandas as pd\n",
    "import requests\n",
    "resp_jabar = requests.get('https://data.covid19.go.id/public/api/prov_detail_JAWA_BARAT.json')\n",
    "cov_jabar_raw = resp_jabar.json()\n",
    "cov_jabar = pd.DataFrame(cov_jabar_raw['list_perkembangan'])\n",
    "\n",
    "cov_jabar_tidy = (cov_jabar.drop(columns=[item for item in cov_jabar.columns \n",
    "                                               if item.startswith('AKUMULASI') \n",
    "                                                  or item.startswith('DIRAWAT')])\n",
    "                           .rename(columns=str.lower)\n",
    "                           .rename(columns={'kasus': 'kasus_baru'})\n",
    "                  )\n",
    "cov_jabar_tidy['tanggal'] = pd.to_datetime(cov_jabar_tidy['tanggal']*1e6, unit='ns')\n",
    "\n",
    "cov_jabar_pekanan = (cov_jabar_tidy.set_index('tanggal')['kasus_baru']\n",
    "                                   .resample('W')\n",
    "                                   .sum()\n",
    "                                   .reset_index()\n",
    "                                   .rename(columns={'kasus_baru': 'jumlah'})\n",
    "                    )\n",
    "cov_jabar_pekanan['tahun'] = cov_jabar_pekanan['tanggal'].apply(lambda x: x.year)\n",
    "cov_jabar_pekanan['pekan_ke'] = cov_jabar_pekanan['tanggal'].apply(lambda x: x.weekofyear)\n",
    "cov_jabar_pekanan = cov_jabar_pekanan[['tahun', 'pekan_ke', 'jumlah']]\n",
    "\n",
    "print('Info cov_jabar_pekanan:')\n",
    "print(cov_jabar_pekanan.info())\n",
    "print('\\nLima data teratas cov_jabar_pekanan:\\n', cov_jabar_pekanan.head())\n",
    "# print('\\nLima data terbaru cov_jabar_pekanan:\\n', cov_jabar_pekanan.tail())"
   ]
  },
  {
   "cell_type": "code",
   "execution_count": 6,
   "metadata": {},
   "outputs": [
    {
     "name": "stdout",
     "output_type": "stream",
     "text": [
      "Sepuluh data teratas:\n",
      "    tahun  pekan_ke  jumlah  jumlah_pekanlalu  lebih_baik\n",
      "0   2020        10       7                 0       False\n",
      "1   2020        11       5                 7        True\n",
      "2   2020        12      52                 5       False\n",
      "3   2020        13     104                52       False\n",
      "4   2020        14     131               104       False\n",
      "5   2020        15     235               131       False\n",
      "6   2020        16     277               235       False\n",
      "7   2020        17     216               277        True\n",
      "8   2020        18     156               216        True\n",
      "9   2020        19     367               156       False\n"
     ]
    }
   ],
   "source": [
    "import numpy as np\n",
    "import pandas as pd\n",
    "import requests\n",
    "resp_jabar = requests.get('https://data.covid19.go.id/public/api/prov_detail_JAWA_BARAT.json')\n",
    "cov_jabar_raw = resp_jabar.json()\n",
    "cov_jabar = pd.DataFrame(cov_jabar_raw['list_perkembangan'])\n",
    "\n",
    "cov_jabar_tidy = (cov_jabar.drop(columns=[item for item in cov_jabar.columns \n",
    "                                               if item.startswith('AKUMULASI') \n",
    "                                                  or item.startswith('DIRAWAT')])\n",
    "                           .rename(columns=str.lower)\n",
    "                           .rename(columns={'kasus': 'kasus_baru'})\n",
    "                  )\n",
    "cov_jabar_tidy['tanggal'] = pd.to_datetime(cov_jabar_tidy['tanggal']*1e6, unit='ns')\n",
    "\n",
    "cov_jabar_pekanan = (cov_jabar_tidy.set_index('tanggal')['kasus_baru']\n",
    "                                   .resample('W')\n",
    "                                   .sum()\n",
    "                                   .reset_index()\n",
    "                                   .rename(columns={'kasus_baru': 'jumlah'})\n",
    "                    )\n",
    "cov_jabar_pekanan['tahun'] = cov_jabar_pekanan['tanggal'].apply(lambda x: x.year)\n",
    "cov_jabar_pekanan['pekan_ke'] = cov_jabar_pekanan['tanggal'].apply(lambda x: x.weekofyear)\n",
    "cov_jabar_pekanan = cov_jabar_pekanan[['tahun', 'pekan_ke', 'jumlah']]\n",
    "\n",
    "cov_jabar_pekanan['jumlah_pekanlalu'] = cov_jabar_pekanan['jumlah'].shift().replace(np.nan, 0).astype(np.int)\n",
    "cov_jabar_pekanan['lebih_baik'] = cov_jabar_pekanan['jumlah'] < cov_jabar_pekanan['jumlah_pekanlalu']\n",
    "\n",
    "print('Sepuluh data teratas:\\n', cov_jabar_pekanan.head(10))"
   ]
  },
  {
   "cell_type": "code",
   "execution_count": 2,
   "metadata": {},
   "outputs": [
    {
     "ename": "SyntaxError",
     "evalue": "invalid syntax (<ipython-input-2-a68a3ddb2eee>, line 47)",
     "output_type": "error",
     "traceback": [
      "\u001b[1;36m  File \u001b[1;32m\"<ipython-input-2-a68a3ddb2eee>\"\u001b[1;36m, line \u001b[1;32m47\u001b[0m\n\u001b[1;33m    elif i==jml_tahun_terjadi_covid19-1:\u001b[0m\n\u001b[1;37m    ^\u001b[0m\n\u001b[1;31mSyntaxError\u001b[0m\u001b[1;31m:\u001b[0m invalid syntax\n"
     ]
    }
   ],
   "source": [
    "import numpy as np\n",
    "import pandas as pd\n",
    "import requests\n",
    "resp_jabar = requests.get('https://data.covid19.go.id/public/api/prov_detail_JAWA_BARAT.json')\n",
    "cov_jabar_raw = resp_jabar.json()\n",
    "cov_jabar = pd.DataFrame(cov_jabar_raw['list_perkembangan'])\n",
    "\n",
    "cov_jabar_tidy = (cov_jabar.drop(columns=[item for item in cov_jabar.columns \n",
    "                                               if item.startswith('AKUMULASI') \n",
    "                                                  or item.startswith('DIRAWAT')])\n",
    "                           .rename(columns=str.lower)\n",
    "                           .rename(columns={'kasus': 'kasus_baru'})\n",
    "                  )\n",
    "cov_jabar_tidy['tanggal'] = pd.to_datetime(cov_jabar_tidy['tanggal']*1e6, unit='ns')\n",
    "\n",
    "cov_jabar_pekanan = (cov_jabar_tidy.set_index('tanggal')['kasus_baru']\n",
    "                                   .resample('W')\n",
    "                                   .sum()\n",
    "                                   .reset_index()\n",
    "                                   .rename(columns={'kasus_baru': 'jumlah'})\n",
    "                    )\n",
    "cov_jabar_pekanan['tahun'] = cov_jabar_pekanan['tanggal'].apply(lambda x: x.year)\n",
    "cov_jabar_pekanan['pekan_ke'] = cov_jabar_pekanan['tanggal'].apply(lambda x: x.weekofyear)\n",
    "cov_jabar_pekanan = cov_jabar_pekanan[['tahun', 'pekan_ke', 'jumlah']]\n",
    "\n",
    "cov_jabar_pekanan['jumlah_pekanlalu'] = cov_jabar_pekanan['jumlah'].shift().replace(np.nan, 0).astype(np.int)\n",
    "cov_jabar_pekanan['lebih_baik'] = cov_jabar_pekanan['jumlah'] < cov_jabar_pekanan['jumlah_pekanlalu']\n",
    "\n",
    "import matplotlib.pyplot as plt\n",
    "\n",
    "plt.clf()\n",
    "jml_tahun_terjadi_covid19 = cov_jabar_pekanan['tahun'].nunique()\n",
    "tahun_terjadi_covid19 = cov_jabar_pekanan['tahun'].unique()\n",
    "fig, axes = plt.subplots(nrows=jml_tahun_terjadi_covid19,\n",
    "                        figsize=(10,3*jml_tahun_terjadi_covid19))\n",
    "\n",
    "fig.suptitle('Kasus Pekanan Positif COVID-19 di Jawa Barat',\n",
    "            y=1.00, fontsize=16, fontweight='bold', ha='center')\n",
    "for i, ax in enumerate(axes):\n",
    "    ax.bar(data=cov_jabar_pekanan.loc[cov_jabar_pekanan['tahun'] == tahun_terjadi_covid19[i]],\n",
    "          x='pekan_ke', height='jumlah',\n",
    "          color=['mediumseagreen' if x is True else 'salmon'\n",
    "                for x in cov_jabar_pekanan['lebih_baik']])\n",
    "    if i==0:\n",
    "        ax.set_title('Kolom hijau menunjukan penambahan kasus baru lebih sedikit dibandingkan satu pekan sebelumnya',\n",
    "                    fontsize=10)\n",
    "        elif i==jml_tahun_terjadi_covid19-1:\n",
    "            ax.text(1,-0.2, 'Sumber data: covid.19.go.id', color='blue',\n",
    "                   ha='right', transform=ax.transAxes)\n",
    "        \n",
    "        ax.set_xlim([0, 52.5])\n",
    "        ax.set_ylim([0, max(cov_jabar_pekanan['jumlah'])])\n",
    "        ax.set_xlabel('')\n",
    "        ax.set_ylabel('Jumlah kasus %d'%(tahun_terjadi_covid19[i],))\n",
    "        ax.grid(axis='y')\n",
    "        \n",
    "plt.tight_layout()\n",
    "plt.show()"
   ]
  },
  {
   "cell_type": "code",
   "execution_count": 3,
   "metadata": {},
   "outputs": [
    {
     "name": "stdout",
     "output_type": "stream",
     "text": [
      "https://academy.dqlab.id/main/livecode/287/535/2673?pr=0\n"
     ]
    }
   ],
   "source": [
    "print('https://academy.dqlab.id/main/livecode/287/535/2673?pr=0')"
   ]
  },
  {
   "cell_type": "code",
   "execution_count": 11,
   "metadata": {},
   "outputs": [
    {
     "name": "stdout",
     "output_type": "stream",
     "text": [
      "       tanggal  akumulasi_aktif  akumulasi_sembuh  akumulasi_meninggal\n",
      "526 2021-08-10            79047            553533                10988\n",
      "527 2021-08-11            73981            561653                11108\n",
      "528 2021-08-12            71234            566178                11198\n",
      "529 2021-08-13            65368            574942                11268\n",
      "530 2021-08-14            65003            577428                11311\n"
     ]
    }
   ],
   "source": [
    "import numpy as np\n",
    "import pandas as pd\n",
    "import requests\n",
    "resp_jabar = requests.get('https://data.covid19.go.id/public/api/prov_detail_JAWA_BARAT.json')\n",
    "cov_jabar_raw = resp_jabar.json()\n",
    "cov_jabar = pd.DataFrame(cov_jabar_raw['list_perkembangan'])\n",
    "\n",
    "cov_jabar_tidy = (cov_jabar.drop(columns=[item for item in cov_jabar.columns \n",
    "                                               if item.startswith('AKUMULASI') \n",
    "                                                  or item.startswith('DIRAWAT')])\n",
    "                           .rename(columns=str.lower)\n",
    "                           .rename(columns={'kasus': 'kasus_baru'})\n",
    "                  )\n",
    "cov_jabar_tidy['tanggal'] = pd.to_datetime(cov_jabar_tidy['tanggal']*1e6, unit='ns')\n",
    "\n",
    "cov_jabar_akumulasi = cov_jabar_tidy[['tanggal']].copy()\n",
    "cov_jabar_akumulasi['akumulasi_aktif'] = (cov_jabar_tidy['kasus_baru'] - cov_jabar_tidy['sembuh'] - cov_jabar_tidy['meninggal']).cumsum()\n",
    "cov_jabar_akumulasi['akumulasi_sembuh'] = cov_jabar_tidy['sembuh'].cumsum()\n",
    "cov_jabar_akumulasi['akumulasi_meninggal'] = cov_jabar_tidy['meninggal'].cumsum()\n",
    "print(cov_jabar_akumulasi.tail())"
   ]
  },
  {
   "cell_type": "code",
   "execution_count": 12,
   "metadata": {},
   "outputs": [
    {
     "name": "stderr",
     "output_type": "stream",
     "text": [
      "<ipython-input-12-6fd8e6c7b573>:34: UserWarning: FixedFormatter should only be used together with FixedLocator\n",
      "  ax.set_xticklabels(ax.get_xticks(), rotation=90)\n"
     ]
    },
    {
     "data": {
      "text/plain": [
       "<Figure size 432x288 with 0 Axes>"
      ]
     },
     "metadata": {},
     "output_type": "display_data"
    },
    {
     "data": {
      "image/png": "[encoded data removed]",
      "text/plain": [
       "<Figure size 720x360 with 1 Axes>"
      ]
     },
     "metadata": {
      "needs_background": "light"
     },
     "output_type": "display_data"
    }
   ],
   "source": [
    "import numpy as np\n",
    "import pandas as pd\n",
    "import requests\n",
    "resp_jabar = requests.get('https://data.covid19.go.id/public/api/prov_detail_JAWA_BARAT.json')\n",
    "cov_jabar_raw = resp_jabar.json()\n",
    "cov_jabar = pd.DataFrame(cov_jabar_raw['list_perkembangan'])\n",
    "\n",
    "cov_jabar_tidy = (cov_jabar.drop(columns=[item for item in cov_jabar.columns \n",
    "                                               if item.startswith('AKUMULASI') \n",
    "                                                  or item.startswith('DIRAWAT')])\n",
    "                           .rename(columns=str.lower)\n",
    "                           .rename(columns={'kasus': 'kasus_baru'})\n",
    "                  )\n",
    "cov_jabar_tidy['tanggal'] = pd.to_datetime(cov_jabar_tidy['tanggal']*1e6, unit='ns')\n",
    "\n",
    "cov_jabar_akumulasi = cov_jabar_tidy[['tanggal']].copy()\n",
    "cov_jabar_akumulasi['akumulasi_aktif'] = (cov_jabar_tidy['kasus_baru'] - cov_jabar_tidy['sembuh'] - cov_jabar_tidy['meninggal']).cumsum()\n",
    "cov_jabar_akumulasi['akumulasi_sembuh'] = cov_jabar_tidy['sembuh'].cumsum()\n",
    "cov_jabar_akumulasi['akumulasi_meninggal'] = cov_jabar_tidy['meninggal'].cumsum()\n",
    "\n",
    "import matplotlib.pyplot as plt\n",
    "import matplotlib.dates as mdates\n",
    "\n",
    "plt.clf()\n",
    "fig, ax = plt.subplots(figsize=(10,5))\n",
    "ax.plot('tanggal', 'akumulasi_aktif', data=cov_jabar_akumulasi, lw=2)\n",
    "\n",
    "ax.set_title('Akumulasi aktif COVID-19 di Jawa Barat',\n",
    "             fontsize=22)\n",
    "ax.set_xlabel('')\n",
    "ax.set_ylabel('Akumulasi Aktif')\n",
    "ax.text(1, -0.3, 'Sumber data: covid.19.go.id', color='blue',\n",
    "        ha='right', transform=ax.transAxes)\n",
    "ax.set_xticklabels(ax.get_xticks(), rotation=90)\n",
    "\n",
    "ax.xaxis.set_major_locator(mdates.MonthLocator())\n",
    "ax.xaxis.set_major_formatter(mdates.DateFormatter('%b %Y'))\n",
    "\n",
    "plt.grid()\n",
    "plt.tight_layout()\n",
    "plt.show()"
   ]
  },
  {
   "cell_type": "code",
   "execution_count": 15,
   "metadata": {},
   "outputs": [
    {
     "data": {
      "text/plain": [
       "<Figure size 432x288 with 0 Axes>"
      ]
     },
     "metadata": {},
     "output_type": "display_data"
    },
    {
     "data": {
      "image/png": "[encoded data removed]",
      "text/plain": [
       "<Figure size 720x360 with 1 Axes>"
      ]
     },
     "metadata": {
      "needs_background": "light"
     },
     "output_type": "display_data"
    }
   ],
   "source": [
    "import numpy as np\n",
    "import pandas as pd\n",
    "import requests\n",
    "resp_jabar = requests.get('https://data.covid19.go.id/public/api/prov_detail_JAWA_BARAT.json')\n",
    "cov_jabar_raw = resp_jabar.json()\n",
    "cov_jabar = pd.DataFrame(cov_jabar_raw['list_perkembangan'])\n",
    "\n",
    "cov_jabar_tidy = (cov_jabar.drop(columns=[item for item in cov_jabar.columns \n",
    "                                               if item.startswith('AKUMULASI') \n",
    "                                                  or item.startswith('DIRAWAT')])\n",
    "                           .rename(columns=str.lower)\n",
    "                           .rename(columns={'kasus': 'kasus_baru'})\n",
    "                  )\n",
    "cov_jabar_tidy['tanggal'] = pd.to_datetime(cov_jabar_tidy['tanggal']*1e6, unit='ns')\n",
    "\n",
    "cov_jabar_akumulasi = cov_jabar_tidy[['tanggal']].copy()\n",
    "cov_jabar_akumulasi['akumulasi_aktif'] = (cov_jabar_tidy['kasus_baru'] - cov_jabar_tidy['sembuh'] - cov_jabar_tidy['meninggal']).cumsum()\n",
    "cov_jabar_akumulasi['akumulasi_sembuh'] = cov_jabar_tidy['sembuh'].cumsum()\n",
    "cov_jabar_akumulasi['akumulasi_meninggal'] = cov_jabar_tidy['meninggal'].cumsum()\n",
    "\n",
    "import matplotlib.pyplot as plt\n",
    "import matplotlib.dates as mdates\n",
    "plt.clf()\n",
    "fig, ax = plt.subplots(figsize=(10,5))\n",
    "cov_jabar_akumulasi_ts = cov_jabar_akumulasi.set_index('tanggal')\n",
    "cov_jabar_akumulasi_ts.plot(kind='line', ax=ax, lw=3,\n",
    "                           color=['salmon','slategrey','olivedrab'])\n",
    "\n",
    "ax.set_title('Dinamika Kasus COVID-19 di Jawa Barat',\n",
    "            fontsize=22)\n",
    "ax.set_xlabel('')\n",
    "ax.set_ylabel('Akumulasi Aktif')\n",
    "ax.text(1,-0.3, 'Sumber data: covid.19.go.id', color='blue',\n",
    "       ha='right', transform=ax.transAxes)\n",
    "\n",
    "plt.grid()\n",
    "plt.tight_layout()\n",
    "plt.show()"
   ]
  },
  {
   "cell_type": "code",
   "execution_count": null,
   "metadata": {},
   "outputs": [],
   "source": []
  }
 ],
 "metadata": {
  "hide_input": false,
  "kernelspec": {
   "display_name": "Python 3",
   "language": "python",
   "name": "python3"
  },
  "language_info": {
   "codemirror_mode": {
    "name": "ipython",
    "version": 3
   },
   "file_extension": ".py",
   "mimetype": "text/x-python",
   "name": "python",
   "nbconvert_exporter": "python",
   "pygments_lexer": "ipython3",
   "version": "3.9.1"
  },
  "varInspector": {
   "cols": {
    "lenName": 16,
    "lenType": 16,
    "lenVar": 40
   },
   "kernels_config": {
    "python": {
     "delete_cmd_postfix": "",
     "delete_cmd_prefix": "del ",
     "library": "var_list.py",
     "varRefreshCmd": "print(var_dic_list())"
    },
    "r": {
     "delete_cmd_postfix": ") ",
     "delete_cmd_prefix": "rm(",
     "library": "var_list.r",
     "varRefreshCmd": "cat(var_dic_list()) "
    }
   },
   "types_to_exclude": [
    "module",
    "function",
    "builtin_function_or_method",
    "instance",
    "_Feature"
   ],
   "window_display": false
  }
 },
 "nbformat": 4,
 "nbformat_minor": 4
}
